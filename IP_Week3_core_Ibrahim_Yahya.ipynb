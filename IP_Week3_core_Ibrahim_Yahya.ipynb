{
  "nbformat": 4,
  "nbformat_minor": 0,
  "metadata": {
    "colab": {
      "name": "IP_Week3_core_Ibrahim_Yahya",
      "version": "0.3.2",
      "provenance": [],
      "collapsed_sections": [
        "kLG2VTrnTvYL",
        "J4wfHZwQrs-t",
        "a9BPYqunry97",
        "7KMRBJ7zr9HD",
        "zSGyg6kWsBUl",
        "DdgEyfgu86tg",
        "GvNbUFioBFUm"
      ],
      "toc_visible": true,
      "include_colab_link": true
    },
    "kernelspec": {
      "name": "python3",
      "display_name": "Python 3"
    }
  },
  "cells": [
    {
      "cell_type": "markdown",
      "metadata": {
        "id": "view-in-github",
        "colab_type": "text"
      },
      "source": [
        "<a href=\"https://colab.research.google.com/github/yahyalito/IP_Week3_core_Ibrahim_Yahya/blob/master/IP_Week3_core_Ibrahim_Yahya.ipynb\" target=\"_parent\"><img src=\"https://colab.research.google.com/assets/colab-badge.svg\" alt=\"Open In Colab\"/></a>"
      ]
    },
    {
      "cell_type": "markdown",
      "metadata": {
        "id": "xMxtPsqcTsSH",
        "colab_type": "text"
      },
      "source": [
        "# Independent Project"
      ]
    },
    {
      "cell_type": "code",
      "metadata": {
        "id": "pXgtmjHnkH-B",
        "colab_type": "code",
        "colab": {}
      },
      "source": [
        "import pandas as pd\n",
        "import seaborn as sns\n",
        "import matplotlib.pyplot as plt\n",
        "import matplotlib.dates as mdates\n",
        "\n",
        "%matplotlib inline\n",
        "from sklearn.linear_model import LinearRegression\n",
        "from sklearn import model_selection\n",
        "from sklearn.metrics import r2_score\n",
        "from sklearn.model_selection import train_test_split\n",
        "import statsmodels.api as sm\n",
        "from statsmodels.graphics.gofplots import qqplot\n",
        "from scipy.stats import shapiro \n",
        "import math\n",
        "from scipy.stats import mannwhitneyu\n",
        "\n"
      ],
      "execution_count": 0,
      "outputs": []
    },
    {
      "cell_type": "markdown",
      "metadata": {
        "id": "kLG2VTrnTvYL",
        "colab_type": "text"
      },
      "source": [
        "## 1. Defining the Question"
      ]
    },
    {
      "cell_type": "markdown",
      "metadata": {
        "id": "XecOwPNorl2W",
        "colab_type": "text"
      },
      "source": [
        "### a) Specifying the Data Analytic Question"
      ]
    },
    {
      "cell_type": "code",
      "metadata": {
        "id": "_KORfluN654-",
        "colab_type": "code",
        "colab": {}
      },
      "source": [
        "#Compare two samples and check if they have the same distribution"
      ],
      "execution_count": 0,
      "outputs": []
    },
    {
      "cell_type": "markdown",
      "metadata": {
        "id": "J4wfHZwQrs-t",
        "colab_type": "text"
      },
      "source": [
        "### b) Defining the Metric for Success"
      ]
    },
    {
      "cell_type": "code",
      "metadata": {
        "id": "A75rVtY97pUt",
        "colab_type": "code",
        "colab": {}
      },
      "source": [
        "#Either to reject or fail to reject the null hypothesis"
      ],
      "execution_count": 0,
      "outputs": []
    },
    {
      "cell_type": "markdown",
      "metadata": {
        "id": "iUNbvIvnT7ep",
        "colab_type": "text"
      },
      "source": [
        "## 2. Reading the Data"
      ]
    },
    {
      "cell_type": "code",
      "metadata": {
        "id": "XJn2KjW-WMlG",
        "colab_type": "code",
        "outputId": "0d1b733f-a4dd-42e0-c35c-acef91522c58",
        "colab": {
          "base_uri": "https://localhost:8080/",
          "height": 244
        }
      },
      "source": [
        "# Loading the Data from the source i.e. csv\n",
        "# ---\n",
        "autolib = pd.read_csv(\"http://bit.ly/DSCoreAutolibDataset\")\n",
        "autolib.head()\n"
      ],
      "execution_count": 3,
      "outputs": [
        {
          "output_type": "execute_result",
          "data": {
            "text/html": [
              "<div>\n",
              "<style scoped>\n",
              "    .dataframe tbody tr th:only-of-type {\n",
              "        vertical-align: middle;\n",
              "    }\n",
              "\n",
              "    .dataframe tbody tr th {\n",
              "        vertical-align: top;\n",
              "    }\n",
              "\n",
              "    .dataframe thead th {\n",
              "        text-align: right;\n",
              "    }\n",
              "</style>\n",
              "<table border=\"1\" class=\"dataframe\">\n",
              "  <thead>\n",
              "    <tr style=\"text-align: right;\">\n",
              "      <th></th>\n",
              "      <th>Postal code</th>\n",
              "      <th>date</th>\n",
              "      <th>n_daily_data_points</th>\n",
              "      <th>dayOfWeek</th>\n",
              "      <th>day_type</th>\n",
              "      <th>BlueCars_taken_sum</th>\n",
              "      <th>BlueCars_returned_sum</th>\n",
              "      <th>Utilib_taken_sum</th>\n",
              "      <th>Utilib_returned_sum</th>\n",
              "      <th>Utilib_14_taken_sum</th>\n",
              "      <th>Utilib_14_returned_sum</th>\n",
              "      <th>Slots_freed_sum</th>\n",
              "      <th>Slots_taken_sum</th>\n",
              "    </tr>\n",
              "  </thead>\n",
              "  <tbody>\n",
              "    <tr>\n",
              "      <th>0</th>\n",
              "      <td>75001</td>\n",
              "      <td>1/1/2018</td>\n",
              "      <td>1440</td>\n",
              "      <td>0</td>\n",
              "      <td>weekday</td>\n",
              "      <td>110</td>\n",
              "      <td>103</td>\n",
              "      <td>3</td>\n",
              "      <td>2</td>\n",
              "      <td>10</td>\n",
              "      <td>9</td>\n",
              "      <td>22</td>\n",
              "      <td>20</td>\n",
              "    </tr>\n",
              "    <tr>\n",
              "      <th>1</th>\n",
              "      <td>75001</td>\n",
              "      <td>1/2/2018</td>\n",
              "      <td>1438</td>\n",
              "      <td>1</td>\n",
              "      <td>weekday</td>\n",
              "      <td>98</td>\n",
              "      <td>94</td>\n",
              "      <td>1</td>\n",
              "      <td>1</td>\n",
              "      <td>8</td>\n",
              "      <td>8</td>\n",
              "      <td>23</td>\n",
              "      <td>22</td>\n",
              "    </tr>\n",
              "    <tr>\n",
              "      <th>2</th>\n",
              "      <td>75001</td>\n",
              "      <td>1/3/2018</td>\n",
              "      <td>1439</td>\n",
              "      <td>2</td>\n",
              "      <td>weekday</td>\n",
              "      <td>138</td>\n",
              "      <td>139</td>\n",
              "      <td>0</td>\n",
              "      <td>0</td>\n",
              "      <td>2</td>\n",
              "      <td>2</td>\n",
              "      <td>27</td>\n",
              "      <td>27</td>\n",
              "    </tr>\n",
              "    <tr>\n",
              "      <th>3</th>\n",
              "      <td>75001</td>\n",
              "      <td>1/4/2018</td>\n",
              "      <td>1320</td>\n",
              "      <td>3</td>\n",
              "      <td>weekday</td>\n",
              "      <td>104</td>\n",
              "      <td>104</td>\n",
              "      <td>2</td>\n",
              "      <td>2</td>\n",
              "      <td>9</td>\n",
              "      <td>8</td>\n",
              "      <td>25</td>\n",
              "      <td>21</td>\n",
              "    </tr>\n",
              "    <tr>\n",
              "      <th>4</th>\n",
              "      <td>75001</td>\n",
              "      <td>1/5/2018</td>\n",
              "      <td>1440</td>\n",
              "      <td>4</td>\n",
              "      <td>weekday</td>\n",
              "      <td>114</td>\n",
              "      <td>117</td>\n",
              "      <td>3</td>\n",
              "      <td>3</td>\n",
              "      <td>6</td>\n",
              "      <td>6</td>\n",
              "      <td>18</td>\n",
              "      <td>20</td>\n",
              "    </tr>\n",
              "  </tbody>\n",
              "</table>\n",
              "</div>"
            ],
            "text/plain": [
              "   Postal code      date  ...  Slots_freed_sum  Slots_taken_sum\n",
              "0        75001  1/1/2018  ...               22               20\n",
              "1        75001  1/2/2018  ...               23               22\n",
              "2        75001  1/3/2018  ...               27               27\n",
              "3        75001  1/4/2018  ...               25               21\n",
              "4        75001  1/5/2018  ...               18               20\n",
              "\n",
              "[5 rows x 13 columns]"
            ]
          },
          "metadata": {
            "tags": []
          },
          "execution_count": 3
        }
      ]
    },
    {
      "cell_type": "code",
      "metadata": {
        "id": "qViaIHYx2sME",
        "colab_type": "code",
        "outputId": "92e0c2b8-398d-443b-ac79-0599c90c8ad2",
        "colab": {
          "base_uri": "https://localhost:8080/",
          "height": 101
        }
      },
      "source": [
        "#Rename column \n",
        "autolib.rename(columns = {\"Postal code\" : \"Postal_code\"} , inplace = True)\n",
        "autolib.head(1)"
      ],
      "execution_count": 4,
      "outputs": [
        {
          "output_type": "execute_result",
          "data": {
            "text/html": [
              "<div>\n",
              "<style scoped>\n",
              "    .dataframe tbody tr th:only-of-type {\n",
              "        vertical-align: middle;\n",
              "    }\n",
              "\n",
              "    .dataframe tbody tr th {\n",
              "        vertical-align: top;\n",
              "    }\n",
              "\n",
              "    .dataframe thead th {\n",
              "        text-align: right;\n",
              "    }\n",
              "</style>\n",
              "<table border=\"1\" class=\"dataframe\">\n",
              "  <thead>\n",
              "    <tr style=\"text-align: right;\">\n",
              "      <th></th>\n",
              "      <th>Postal_code</th>\n",
              "      <th>date</th>\n",
              "      <th>n_daily_data_points</th>\n",
              "      <th>dayOfWeek</th>\n",
              "      <th>day_type</th>\n",
              "      <th>BlueCars_taken_sum</th>\n",
              "      <th>BlueCars_returned_sum</th>\n",
              "      <th>Utilib_taken_sum</th>\n",
              "      <th>Utilib_returned_sum</th>\n",
              "      <th>Utilib_14_taken_sum</th>\n",
              "      <th>Utilib_14_returned_sum</th>\n",
              "      <th>Slots_freed_sum</th>\n",
              "      <th>Slots_taken_sum</th>\n",
              "    </tr>\n",
              "  </thead>\n",
              "  <tbody>\n",
              "    <tr>\n",
              "      <th>0</th>\n",
              "      <td>75001</td>\n",
              "      <td>1/1/2018</td>\n",
              "      <td>1440</td>\n",
              "      <td>0</td>\n",
              "      <td>weekday</td>\n",
              "      <td>110</td>\n",
              "      <td>103</td>\n",
              "      <td>3</td>\n",
              "      <td>2</td>\n",
              "      <td>10</td>\n",
              "      <td>9</td>\n",
              "      <td>22</td>\n",
              "      <td>20</td>\n",
              "    </tr>\n",
              "  </tbody>\n",
              "</table>\n",
              "</div>"
            ],
            "text/plain": [
              "   Postal_code      date  ...  Slots_freed_sum  Slots_taken_sum\n",
              "0        75001  1/1/2018  ...               22               20\n",
              "\n",
              "[1 rows x 13 columns]"
            ]
          },
          "metadata": {
            "tags": []
          },
          "execution_count": 4
        }
      ]
    },
    {
      "cell_type": "code",
      "metadata": {
        "id": "9HSM_7qnn0l5",
        "colab_type": "code",
        "outputId": "d0f21be4-c213-42c8-9bf6-22075b62d3e7",
        "colab": {
          "base_uri": "https://localhost:8080/",
          "height": 226
        }
      },
      "source": [
        "autolib_blue = autolib.iloc[ :,:7]\n",
        "autolib_blue.head()"
      ],
      "execution_count": 5,
      "outputs": [
        {
          "output_type": "execute_result",
          "data": {
            "text/html": [
              "<div>\n",
              "<style scoped>\n",
              "    .dataframe tbody tr th:only-of-type {\n",
              "        vertical-align: middle;\n",
              "    }\n",
              "\n",
              "    .dataframe tbody tr th {\n",
              "        vertical-align: top;\n",
              "    }\n",
              "\n",
              "    .dataframe thead th {\n",
              "        text-align: right;\n",
              "    }\n",
              "</style>\n",
              "<table border=\"1\" class=\"dataframe\">\n",
              "  <thead>\n",
              "    <tr style=\"text-align: right;\">\n",
              "      <th></th>\n",
              "      <th>Postal_code</th>\n",
              "      <th>date</th>\n",
              "      <th>n_daily_data_points</th>\n",
              "      <th>dayOfWeek</th>\n",
              "      <th>day_type</th>\n",
              "      <th>BlueCars_taken_sum</th>\n",
              "      <th>BlueCars_returned_sum</th>\n",
              "    </tr>\n",
              "  </thead>\n",
              "  <tbody>\n",
              "    <tr>\n",
              "      <th>0</th>\n",
              "      <td>75001</td>\n",
              "      <td>1/1/2018</td>\n",
              "      <td>1440</td>\n",
              "      <td>0</td>\n",
              "      <td>weekday</td>\n",
              "      <td>110</td>\n",
              "      <td>103</td>\n",
              "    </tr>\n",
              "    <tr>\n",
              "      <th>1</th>\n",
              "      <td>75001</td>\n",
              "      <td>1/2/2018</td>\n",
              "      <td>1438</td>\n",
              "      <td>1</td>\n",
              "      <td>weekday</td>\n",
              "      <td>98</td>\n",
              "      <td>94</td>\n",
              "    </tr>\n",
              "    <tr>\n",
              "      <th>2</th>\n",
              "      <td>75001</td>\n",
              "      <td>1/3/2018</td>\n",
              "      <td>1439</td>\n",
              "      <td>2</td>\n",
              "      <td>weekday</td>\n",
              "      <td>138</td>\n",
              "      <td>139</td>\n",
              "    </tr>\n",
              "    <tr>\n",
              "      <th>3</th>\n",
              "      <td>75001</td>\n",
              "      <td>1/4/2018</td>\n",
              "      <td>1320</td>\n",
              "      <td>3</td>\n",
              "      <td>weekday</td>\n",
              "      <td>104</td>\n",
              "      <td>104</td>\n",
              "    </tr>\n",
              "    <tr>\n",
              "      <th>4</th>\n",
              "      <td>75001</td>\n",
              "      <td>1/5/2018</td>\n",
              "      <td>1440</td>\n",
              "      <td>4</td>\n",
              "      <td>weekday</td>\n",
              "      <td>114</td>\n",
              "      <td>117</td>\n",
              "    </tr>\n",
              "  </tbody>\n",
              "</table>\n",
              "</div>"
            ],
            "text/plain": [
              "   Postal_code      date  ...  BlueCars_taken_sum  BlueCars_returned_sum\n",
              "0        75001  1/1/2018  ...                 110                    103\n",
              "1        75001  1/2/2018  ...                  98                     94\n",
              "2        75001  1/3/2018  ...                 138                    139\n",
              "3        75001  1/4/2018  ...                 104                    104\n",
              "4        75001  1/5/2018  ...                 114                    117\n",
              "\n",
              "[5 rows x 7 columns]"
            ]
          },
          "metadata": {
            "tags": []
          },
          "execution_count": 5
        }
      ]
    },
    {
      "cell_type": "code",
      "metadata": {
        "id": "7xkp00yT4-MJ",
        "colab_type": "code",
        "colab": {}
      },
      "source": [
        ""
      ],
      "execution_count": 0,
      "outputs": []
    },
    {
      "cell_type": "markdown",
      "metadata": {
        "id": "OI3P3YnHUEBk",
        "colab_type": "text"
      },
      "source": [
        "## 3. Checking the Data"
      ]
    },
    {
      "cell_type": "code",
      "metadata": {
        "id": "YjSVNwgptHxY",
        "colab_type": "code",
        "outputId": "45e84543-653d-4a71-9746-189ee9708c7f",
        "colab": {
          "base_uri": "https://localhost:8080/",
          "height": 34
        }
      },
      "source": [
        "# Determining the no. of records in our dataset\n",
        "#\n",
        "autolib.shape"
      ],
      "execution_count": 6,
      "outputs": [
        {
          "output_type": "execute_result",
          "data": {
            "text/plain": [
              "(16085, 13)"
            ]
          },
          "metadata": {
            "tags": []
          },
          "execution_count": 6
        }
      ]
    },
    {
      "cell_type": "code",
      "metadata": {
        "id": "xHhTw5eKWr0n",
        "colab_type": "code",
        "outputId": "a634cf63-0cb3-4be9-9609-e62509de698d",
        "colab": {
          "base_uri": "https://localhost:8080/",
          "height": 226
        }
      },
      "source": [
        "# Previewing the top of our dataset\n",
        "#\n",
        "autolib.head()"
      ],
      "execution_count": 7,
      "outputs": [
        {
          "output_type": "execute_result",
          "data": {
            "text/html": [
              "<div>\n",
              "<style scoped>\n",
              "    .dataframe tbody tr th:only-of-type {\n",
              "        vertical-align: middle;\n",
              "    }\n",
              "\n",
              "    .dataframe tbody tr th {\n",
              "        vertical-align: top;\n",
              "    }\n",
              "\n",
              "    .dataframe thead th {\n",
              "        text-align: right;\n",
              "    }\n",
              "</style>\n",
              "<table border=\"1\" class=\"dataframe\">\n",
              "  <thead>\n",
              "    <tr style=\"text-align: right;\">\n",
              "      <th></th>\n",
              "      <th>Postal_code</th>\n",
              "      <th>date</th>\n",
              "      <th>n_daily_data_points</th>\n",
              "      <th>dayOfWeek</th>\n",
              "      <th>day_type</th>\n",
              "      <th>BlueCars_taken_sum</th>\n",
              "      <th>BlueCars_returned_sum</th>\n",
              "      <th>Utilib_taken_sum</th>\n",
              "      <th>Utilib_returned_sum</th>\n",
              "      <th>Utilib_14_taken_sum</th>\n",
              "      <th>Utilib_14_returned_sum</th>\n",
              "      <th>Slots_freed_sum</th>\n",
              "      <th>Slots_taken_sum</th>\n",
              "    </tr>\n",
              "  </thead>\n",
              "  <tbody>\n",
              "    <tr>\n",
              "      <th>0</th>\n",
              "      <td>75001</td>\n",
              "      <td>1/1/2018</td>\n",
              "      <td>1440</td>\n",
              "      <td>0</td>\n",
              "      <td>weekday</td>\n",
              "      <td>110</td>\n",
              "      <td>103</td>\n",
              "      <td>3</td>\n",
              "      <td>2</td>\n",
              "      <td>10</td>\n",
              "      <td>9</td>\n",
              "      <td>22</td>\n",
              "      <td>20</td>\n",
              "    </tr>\n",
              "    <tr>\n",
              "      <th>1</th>\n",
              "      <td>75001</td>\n",
              "      <td>1/2/2018</td>\n",
              "      <td>1438</td>\n",
              "      <td>1</td>\n",
              "      <td>weekday</td>\n",
              "      <td>98</td>\n",
              "      <td>94</td>\n",
              "      <td>1</td>\n",
              "      <td>1</td>\n",
              "      <td>8</td>\n",
              "      <td>8</td>\n",
              "      <td>23</td>\n",
              "      <td>22</td>\n",
              "    </tr>\n",
              "    <tr>\n",
              "      <th>2</th>\n",
              "      <td>75001</td>\n",
              "      <td>1/3/2018</td>\n",
              "      <td>1439</td>\n",
              "      <td>2</td>\n",
              "      <td>weekday</td>\n",
              "      <td>138</td>\n",
              "      <td>139</td>\n",
              "      <td>0</td>\n",
              "      <td>0</td>\n",
              "      <td>2</td>\n",
              "      <td>2</td>\n",
              "      <td>27</td>\n",
              "      <td>27</td>\n",
              "    </tr>\n",
              "    <tr>\n",
              "      <th>3</th>\n",
              "      <td>75001</td>\n",
              "      <td>1/4/2018</td>\n",
              "      <td>1320</td>\n",
              "      <td>3</td>\n",
              "      <td>weekday</td>\n",
              "      <td>104</td>\n",
              "      <td>104</td>\n",
              "      <td>2</td>\n",
              "      <td>2</td>\n",
              "      <td>9</td>\n",
              "      <td>8</td>\n",
              "      <td>25</td>\n",
              "      <td>21</td>\n",
              "    </tr>\n",
              "    <tr>\n",
              "      <th>4</th>\n",
              "      <td>75001</td>\n",
              "      <td>1/5/2018</td>\n",
              "      <td>1440</td>\n",
              "      <td>4</td>\n",
              "      <td>weekday</td>\n",
              "      <td>114</td>\n",
              "      <td>117</td>\n",
              "      <td>3</td>\n",
              "      <td>3</td>\n",
              "      <td>6</td>\n",
              "      <td>6</td>\n",
              "      <td>18</td>\n",
              "      <td>20</td>\n",
              "    </tr>\n",
              "  </tbody>\n",
              "</table>\n",
              "</div>"
            ],
            "text/plain": [
              "   Postal_code      date  ...  Slots_freed_sum  Slots_taken_sum\n",
              "0        75001  1/1/2018  ...               22               20\n",
              "1        75001  1/2/2018  ...               23               22\n",
              "2        75001  1/3/2018  ...               27               27\n",
              "3        75001  1/4/2018  ...               25               21\n",
              "4        75001  1/5/2018  ...               18               20\n",
              "\n",
              "[5 rows x 13 columns]"
            ]
          },
          "metadata": {
            "tags": []
          },
          "execution_count": 7
        }
      ]
    },
    {
      "cell_type": "code",
      "metadata": {
        "id": "e9AzGcZFrIIr",
        "colab_type": "code",
        "outputId": "666c283b-ab38-42dc-af66-18c8354b7390",
        "colab": {
          "base_uri": "https://localhost:8080/",
          "height": 226
        }
      },
      "source": [
        "# Previewing the bottom of our dataset\n",
        "# \n",
        "autolib.tail()"
      ],
      "execution_count": 8,
      "outputs": [
        {
          "output_type": "execute_result",
          "data": {
            "text/html": [
              "<div>\n",
              "<style scoped>\n",
              "    .dataframe tbody tr th:only-of-type {\n",
              "        vertical-align: middle;\n",
              "    }\n",
              "\n",
              "    .dataframe tbody tr th {\n",
              "        vertical-align: top;\n",
              "    }\n",
              "\n",
              "    .dataframe thead th {\n",
              "        text-align: right;\n",
              "    }\n",
              "</style>\n",
              "<table border=\"1\" class=\"dataframe\">\n",
              "  <thead>\n",
              "    <tr style=\"text-align: right;\">\n",
              "      <th></th>\n",
              "      <th>Postal_code</th>\n",
              "      <th>date</th>\n",
              "      <th>n_daily_data_points</th>\n",
              "      <th>dayOfWeek</th>\n",
              "      <th>day_type</th>\n",
              "      <th>BlueCars_taken_sum</th>\n",
              "      <th>BlueCars_returned_sum</th>\n",
              "      <th>Utilib_taken_sum</th>\n",
              "      <th>Utilib_returned_sum</th>\n",
              "      <th>Utilib_14_taken_sum</th>\n",
              "      <th>Utilib_14_returned_sum</th>\n",
              "      <th>Slots_freed_sum</th>\n",
              "      <th>Slots_taken_sum</th>\n",
              "    </tr>\n",
              "  </thead>\n",
              "  <tbody>\n",
              "    <tr>\n",
              "      <th>16080</th>\n",
              "      <td>95880</td>\n",
              "      <td>6/15/2018</td>\n",
              "      <td>1440</td>\n",
              "      <td>4</td>\n",
              "      <td>weekday</td>\n",
              "      <td>15</td>\n",
              "      <td>10</td>\n",
              "      <td>0</td>\n",
              "      <td>0</td>\n",
              "      <td>2</td>\n",
              "      <td>3</td>\n",
              "      <td>0</td>\n",
              "      <td>0</td>\n",
              "    </tr>\n",
              "    <tr>\n",
              "      <th>16081</th>\n",
              "      <td>95880</td>\n",
              "      <td>6/16/2018</td>\n",
              "      <td>1440</td>\n",
              "      <td>5</td>\n",
              "      <td>weekend</td>\n",
              "      <td>19</td>\n",
              "      <td>19</td>\n",
              "      <td>0</td>\n",
              "      <td>0</td>\n",
              "      <td>2</td>\n",
              "      <td>1</td>\n",
              "      <td>0</td>\n",
              "      <td>0</td>\n",
              "    </tr>\n",
              "    <tr>\n",
              "      <th>16082</th>\n",
              "      <td>95880</td>\n",
              "      <td>6/17/2018</td>\n",
              "      <td>1440</td>\n",
              "      <td>6</td>\n",
              "      <td>weekend</td>\n",
              "      <td>33</td>\n",
              "      <td>35</td>\n",
              "      <td>1</td>\n",
              "      <td>1</td>\n",
              "      <td>0</td>\n",
              "      <td>0</td>\n",
              "      <td>0</td>\n",
              "      <td>0</td>\n",
              "    </tr>\n",
              "    <tr>\n",
              "      <th>16083</th>\n",
              "      <td>95880</td>\n",
              "      <td>6/18/2018</td>\n",
              "      <td>1440</td>\n",
              "      <td>0</td>\n",
              "      <td>weekday</td>\n",
              "      <td>11</td>\n",
              "      <td>14</td>\n",
              "      <td>3</td>\n",
              "      <td>5</td>\n",
              "      <td>2</td>\n",
              "      <td>2</td>\n",
              "      <td>0</td>\n",
              "      <td>0</td>\n",
              "    </tr>\n",
              "    <tr>\n",
              "      <th>16084</th>\n",
              "      <td>95880</td>\n",
              "      <td>6/19/2018</td>\n",
              "      <td>1370</td>\n",
              "      <td>1</td>\n",
              "      <td>weekday</td>\n",
              "      <td>2</td>\n",
              "      <td>2</td>\n",
              "      <td>2</td>\n",
              "      <td>1</td>\n",
              "      <td>0</td>\n",
              "      <td>0</td>\n",
              "      <td>0</td>\n",
              "      <td>0</td>\n",
              "    </tr>\n",
              "  </tbody>\n",
              "</table>\n",
              "</div>"
            ],
            "text/plain": [
              "       Postal_code       date  ...  Slots_freed_sum  Slots_taken_sum\n",
              "16080        95880  6/15/2018  ...                0                0\n",
              "16081        95880  6/16/2018  ...                0                0\n",
              "16082        95880  6/17/2018  ...                0                0\n",
              "16083        95880  6/18/2018  ...                0                0\n",
              "16084        95880  6/19/2018  ...                0                0\n",
              "\n",
              "[5 rows x 13 columns]"
            ]
          },
          "metadata": {
            "tags": []
          },
          "execution_count": 8
        }
      ]
    },
    {
      "cell_type": "code",
      "metadata": {
        "id": "n8-dW4sQWzbc",
        "colab_type": "code",
        "outputId": "29bafb97-2c28-40cd-892f-034d868a0362",
        "colab": {
          "base_uri": "https://localhost:8080/",
          "height": 260
        }
      },
      "source": [
        "# Checking whether each column has an appropriate datatype\n",
        "#\n",
        "autolib.dtypes"
      ],
      "execution_count": 9,
      "outputs": [
        {
          "output_type": "execute_result",
          "data": {
            "text/plain": [
              "Postal_code                int64\n",
              "date                      object\n",
              "n_daily_data_points        int64\n",
              "dayOfWeek                  int64\n",
              "day_type                  object\n",
              "BlueCars_taken_sum         int64\n",
              "BlueCars_returned_sum      int64\n",
              "Utilib_taken_sum           int64\n",
              "Utilib_returned_sum        int64\n",
              "Utilib_14_taken_sum        int64\n",
              "Utilib_14_returned_sum     int64\n",
              "Slots_freed_sum            int64\n",
              "Slots_taken_sum            int64\n",
              "dtype: object"
            ]
          },
          "metadata": {
            "tags": []
          },
          "execution_count": 9
        }
      ]
    },
    {
      "cell_type": "code",
      "metadata": {
        "id": "RQkj4IQys7wl",
        "colab_type": "code",
        "colab": {}
      },
      "source": [
        ""
      ],
      "execution_count": 0,
      "outputs": []
    },
    {
      "cell_type": "markdown",
      "metadata": {
        "id": "FlBMxEDBUc9B",
        "colab_type": "text"
      },
      "source": [
        "## 4. Tidying the Dataset"
      ]
    },
    {
      "cell_type": "code",
      "metadata": {
        "id": "5o_bQcT5W3Wz",
        "colab_type": "code",
        "colab": {}
      },
      "source": [
        "# Checking for Outliers\n",
        "#\n"
      ],
      "execution_count": 0,
      "outputs": []
    },
    {
      "cell_type": "code",
      "metadata": {
        "id": "PWlukLKUvFQN",
        "colab_type": "code",
        "colab": {}
      },
      "source": [
        "# Checking for Anomalies\n",
        "#"
      ],
      "execution_count": 0,
      "outputs": []
    },
    {
      "cell_type": "code",
      "metadata": {
        "id": "PvCYb6dgW4yh",
        "colab_type": "code",
        "outputId": "b2dcb9c3-8ee4-46c7-c21c-cc9cba9dac4b",
        "colab": {
          "base_uri": "https://localhost:8080/",
          "height": 260
        }
      },
      "source": [
        "# Identifying the Missing Data\n",
        "#\n",
        "autolib.isna().sum()"
      ],
      "execution_count": 11,
      "outputs": [
        {
          "output_type": "execute_result",
          "data": {
            "text/plain": [
              "Postal_code               0\n",
              "date                      0\n",
              "n_daily_data_points       0\n",
              "dayOfWeek                 0\n",
              "day_type                  0\n",
              "BlueCars_taken_sum        0\n",
              "BlueCars_returned_sum     0\n",
              "Utilib_taken_sum          0\n",
              "Utilib_returned_sum       0\n",
              "Utilib_14_taken_sum       0\n",
              "Utilib_14_returned_sum    0\n",
              "Slots_freed_sum           0\n",
              "Slots_taken_sum           0\n",
              "dtype: int64"
            ]
          },
          "metadata": {
            "tags": []
          },
          "execution_count": 11
        }
      ]
    },
    {
      "cell_type": "markdown",
      "metadata": {
        "id": "rF2ABPsHUtbZ",
        "colab_type": "text"
      },
      "source": [
        "## 5. Exploratory Analysis"
      ]
    },
    {
      "cell_type": "markdown",
      "metadata": {
        "id": "DdgEyfgu86tg",
        "colab_type": "text"
      },
      "source": [
        "####Univariate Analysis"
      ]
    },
    {
      "cell_type": "code",
      "metadata": {
        "id": "CJHNZfb-rFn_",
        "colab_type": "code",
        "outputId": "4cd3e18c-cd5c-447e-f48d-3e362c5aaae9",
        "colab": {
          "base_uri": "https://localhost:8080/",
          "height": 0
        }
      },
      "source": [
        "#Each postal code has 156 entries \n",
        "#example displays first 5 postal code entries\n",
        "autolib.Postal_code.value_counts().head()"
      ],
      "execution_count": 14,
      "outputs": [
        {
          "output_type": "execute_result",
          "data": {
            "text/plain": [
              "94130    156\n",
              "92310    156\n",
              "78140    156\n",
              "94700    156\n",
              "95100    156\n",
              "Name: Postal_code, dtype: int64"
            ]
          },
          "metadata": {
            "tags": []
          },
          "execution_count": 14
        }
      ]
    },
    {
      "cell_type": "code",
      "metadata": {
        "id": "4l-19Z0OtRrI",
        "colab_type": "code",
        "outputId": "57a18766-f9e9-40b9-8a1b-c8b8e372ccc5",
        "colab": {
          "base_uri": "https://localhost:8080/",
          "height": 0
        }
      },
      "source": [
        "#Unique entries for the number of data points column\n",
        "\n",
        "autolib.n_daily_data_points.unique()"
      ],
      "execution_count": 15,
      "outputs": [
        {
          "output_type": "execute_result",
          "data": {
            "text/plain": [
              "array([1440, 1438, 1439, 1320, 1437, 1434, 1398, 1420, 1425, 1396, 1429,\n",
              "       1389, 1380, 1364, 1318, 1377, 1203, 1417, 1435, 1174, 1436, 1411,\n",
              "       1370])"
            ]
          },
          "metadata": {
            "tags": []
          },
          "execution_count": 15
        }
      ]
    },
    {
      "cell_type": "code",
      "metadata": {
        "id": "BrSWawqrrxZ3",
        "colab_type": "code",
        "outputId": "348b4896-d36e-4dda-bab1-84b7780b5e60",
        "colab": {
          "base_uri": "https://localhost:8080/",
          "height": 0
        }
      },
      "source": [
        "#Number of daily data points is mostly between 1350 and 1450 \n",
        "\n",
        "plt.hist(autolib[\"n_daily_data_points\"], bins=15, histtype='bar', rwidth=0.9)\n"
      ],
      "execution_count": 16,
      "outputs": [
        {
          "output_type": "execute_result",
          "data": {
            "text/plain": [
              "(array([  104.,   103.,     0.,     0.,     0.,     0.,     0.,     0.,\n",
              "          206.,     0.,   103.,   299.,   305.,   413., 14552.]),\n",
              " array([1174.        , 1191.73333333, 1209.46666667, 1227.2       ,\n",
              "        1244.93333333, 1262.66666667, 1280.4       , 1298.13333333,\n",
              "        1315.86666667, 1333.6       , 1351.33333333, 1369.06666667,\n",
              "        1386.8       , 1404.53333333, 1422.26666667, 1440.        ]),\n",
              " <a list of 15 Patch objects>)"
            ]
          },
          "metadata": {
            "tags": []
          },
          "execution_count": 16
        },
        {
          "output_type": "display_data",
          "data": {
            "image/png": "[encoded data removed]",
            "text/plain": [
              "<Figure size 432x288 with 1 Axes>"
            ]
          },
          "metadata": {
            "tags": []
          }
        }
      ]
    },
    {
      "cell_type": "code",
      "metadata": {
        "id": "BywGXsBvAQ1v",
        "colab_type": "code",
        "outputId": "749f71bf-3b14-4e11-96b7-c4d79c66977d",
        "colab": {
          "base_uri": "https://localhost:8080/",
          "height": 0
        }
      },
      "source": [
        "#Number of daily data points is mostly between 1350 and 1450 \n",
        "\n",
        "sns.boxplot(autolib[\"n_daily_data_points\"], showmeans=True)\n"
      ],
      "execution_count": 17,
      "outputs": [
        {
          "output_type": "execute_result",
          "data": {
            "text/plain": [
              "<matplotlib.axes._subplots.AxesSubplot at 0x7f7cd22366a0>"
            ]
          },
          "metadata": {
            "tags": []
          },
          "execution_count": 17
        },
        {
          "output_type": "display_data",
          "data": {
            "image/png": "[encoded data removed]",
            "text/plain": [
              "<Figure size 432x288 with 1 Axes>"
            ]
          },
          "metadata": {
            "tags": []
          }
        }
      ]
    },
    {
      "cell_type": "code",
      "metadata": {
        "id": "icrJMdHZviYV",
        "colab_type": "code",
        "outputId": "346ccf88-88ea-4119-b268-065d2501542e",
        "colab": {
          "base_uri": "https://localhost:8080/",
          "height": 0
        }
      },
      "source": [
        "plt.hist(autolib[\"BlueCars_taken_sum\"], bins=15, histtype='bar', rwidth=0.9)\n"
      ],
      "execution_count": 18,
      "outputs": [
        {
          "output_type": "execute_result",
          "data": {
            "text/plain": [
              "(array([1.0842e+04, 2.0070e+03, 7.0200e+02, 6.8100e+02, 6.4400e+02,\n",
              "        4.4100e+02, 1.8700e+02, 2.0300e+02, 1.7400e+02, 9.6000e+01,\n",
              "        5.6000e+01, 2.5000e+01, 1.6000e+01, 5.0000e+00, 6.0000e+00]),\n",
              " array([   0.        ,   90.13333333,  180.26666667,  270.4       ,\n",
              "         360.53333333,  450.66666667,  540.8       ,  630.93333333,\n",
              "         721.06666667,  811.2       ,  901.33333333,  991.46666667,\n",
              "        1081.6       , 1171.73333333, 1261.86666667, 1352.        ]),\n",
              " <a list of 15 Patch objects>)"
            ]
          },
          "metadata": {
            "tags": []
          },
          "execution_count": 18
        },
        {
          "output_type": "display_data",
          "data": {
            "image/png": "[encoded data removed]",
            "text/plain": [
              "<Figure size 432x288 with 1 Axes>"
            ]
          },
          "metadata": {
            "tags": []
          }
        }
      ]
    },
    {
      "cell_type": "code",
      "metadata": {
        "id": "Z7_c5-lfwC3H",
        "colab_type": "code",
        "outputId": "9d13cd07-d083-4c3f-df45-9863cbbde909",
        "colab": {
          "base_uri": "https://localhost:8080/",
          "height": 0
        }
      },
      "source": [
        "plt.hist(autolib[\"BlueCars_returned_sum\"], bins=15, histtype='bar', rwidth=0.9)\n"
      ],
      "execution_count": 19,
      "outputs": [
        {
          "output_type": "execute_result",
          "data": {
            "text/plain": [
              "(array([1.0762e+04, 2.0480e+03, 7.1100e+02, 6.6800e+02, 6.5100e+02,\n",
              "        4.4400e+02, 1.9900e+02, 2.0800e+02, 1.6800e+02, 1.0400e+02,\n",
              "        5.6000e+01, 3.6000e+01, 1.8000e+01, 6.0000e+00, 6.0000e+00]),\n",
              " array([   0. ,   88.8,  177.6,  266.4,  355.2,  444. ,  532.8,  621.6,\n",
              "         710.4,  799.2,  888. ,  976.8, 1065.6, 1154.4, 1243.2, 1332. ]),\n",
              " <a list of 15 Patch objects>)"
            ]
          },
          "metadata": {
            "tags": []
          },
          "execution_count": 19
        },
        {
          "output_type": "display_data",
          "data": {
            "image/png": "[encoded data removed]",
            "text/plain": [
              "<Figure size 432x288 with 1 Axes>"
            ]
          },
          "metadata": {
            "tags": []
          }
        }
      ]
    },
    {
      "cell_type": "code",
      "metadata": {
        "id": "GfVgl495wA4K",
        "colab_type": "code",
        "outputId": "7be4473c-1e0a-4d9b-eda0-f2d71f477074",
        "colab": {
          "base_uri": "https://localhost:8080/",
          "height": 0
        }
      },
      "source": [
        "plt.hist(autolib[\"BlueCars_taken_sum\"], bins=15, histtype='bar', rwidth=0.9)\n"
      ],
      "execution_count": 20,
      "outputs": [
        {
          "output_type": "execute_result",
          "data": {
            "text/plain": [
              "(array([1.0842e+04, 2.0070e+03, 7.0200e+02, 6.8100e+02, 6.4400e+02,\n",
              "        4.4100e+02, 1.8700e+02, 2.0300e+02, 1.7400e+02, 9.6000e+01,\n",
              "        5.6000e+01, 2.5000e+01, 1.6000e+01, 5.0000e+00, 6.0000e+00]),\n",
              " array([   0.        ,   90.13333333,  180.26666667,  270.4       ,\n",
              "         360.53333333,  450.66666667,  540.8       ,  630.93333333,\n",
              "         721.06666667,  811.2       ,  901.33333333,  991.46666667,\n",
              "        1081.6       , 1171.73333333, 1261.86666667, 1352.        ]),\n",
              " <a list of 15 Patch objects>)"
            ]
          },
          "metadata": {
            "tags": []
          },
          "execution_count": 20
        },
        {
          "output_type": "display_data",
          "data": {
            "image/png": "[encoded data removed]",
            "text/plain": [
              "<Figure size 432x288 with 1 Axes>"
            ]
          },
          "metadata": {
            "tags": []
          }
        }
      ]
    },
    {
      "cell_type": "code",
      "metadata": {
        "id": "oxL1AEATwK5D",
        "colab_type": "code",
        "outputId": "ed912f3c-5bba-4f49-88b7-ff78b17cfd45",
        "colab": {
          "base_uri": "https://localhost:8080/",
          "height": 0
        }
      },
      "source": [
        "plt.hist(autolib[\"Utilib_returned_sum\"], bins=15, histtype='bar', rwidth=0.9)\n"
      ],
      "execution_count": 21,
      "outputs": [
        {
          "output_type": "execute_result",
          "data": {
            "text/plain": [
              "(array([1.1338e+04, 2.2230e+03, 9.5600e+02, 6.4000e+02, 3.8800e+02,\n",
              "        2.4900e+02, 1.5300e+02, 5.9000e+01, 4.2000e+01, 2.1000e+01,\n",
              "        9.0000e+00, 4.0000e+00, 2.0000e+00, 0.0000e+00, 1.0000e+00]),\n",
              " array([ 0.        ,  3.86666667,  7.73333333, 11.6       , 15.46666667,\n",
              "        19.33333333, 23.2       , 27.06666667, 30.93333333, 34.8       ,\n",
              "        38.66666667, 42.53333333, 46.4       , 50.26666667, 54.13333333,\n",
              "        58.        ]),\n",
              " <a list of 15 Patch objects>)"
            ]
          },
          "metadata": {
            "tags": []
          },
          "execution_count": 21
        },
        {
          "output_type": "display_data",
          "data": {
            "image/png": "[encoded data removed]",
            "text/plain": [
              "<Figure size 432x288 with 1 Axes>"
            ]
          },
          "metadata": {
            "tags": []
          }
        }
      ]
    },
    {
      "cell_type": "code",
      "metadata": {
        "id": "V7J0X4Vn6gwK",
        "colab_type": "code",
        "outputId": "4896ce55-9a46-410e-fb00-77e602a79724",
        "colab": {
          "base_uri": "https://localhost:8080/",
          "height": 0
        }
      },
      "source": [
        "#Measures of Central tendency for no of daily data points\n",
        "\n",
        "autolib['n_daily_data_points'].mode()"
      ],
      "execution_count": 22,
      "outputs": [
        {
          "output_type": "execute_result",
          "data": {
            "text/plain": [
              "0    1440\n",
              "dtype: int64"
            ]
          },
          "metadata": {
            "tags": []
          },
          "execution_count": 22
        }
      ]
    },
    {
      "cell_type": "code",
      "metadata": {
        "id": "ZWZOJT1j6c1N",
        "colab_type": "code",
        "outputId": "7e93ee8a-b72d-4299-d440-eb4ad7c549ec",
        "colab": {
          "base_uri": "https://localhost:8080/",
          "height": 0
        }
      },
      "source": [
        "autolib['n_daily_data_points'].median()"
      ],
      "execution_count": 23,
      "outputs": [
        {
          "output_type": "execute_result",
          "data": {
            "text/plain": [
              "1440.0"
            ]
          },
          "metadata": {
            "tags": []
          },
          "execution_count": 23
        }
      ]
    },
    {
      "cell_type": "code",
      "metadata": {
        "id": "p6UyDsD_6g0A",
        "colab_type": "code",
        "outputId": "4b1ee34c-fad1-43e6-85f0-ef455667b296",
        "colab": {
          "base_uri": "https://localhost:8080/",
          "height": 0
        }
      },
      "source": [
        "autolib['n_daily_data_points'].mean()"
      ],
      "execution_count": 24,
      "outputs": [
        {
          "output_type": "execute_result",
          "data": {
            "text/plain": [
              "1431.3306185887473"
            ]
          },
          "metadata": {
            "tags": []
          },
          "execution_count": 24
        }
      ]
    },
    {
      "cell_type": "code",
      "metadata": {
        "id": "1IJ8UTTp64nb",
        "colab_type": "code",
        "outputId": "5b6da744-932f-41f1-8718-67f0cd6704cb",
        "colab": {
          "base_uri": "https://localhost:8080/",
          "height": 0
        }
      },
      "source": [
        "#Measures of Central tendency for Blue cars taken sum\n",
        "\n",
        "\n",
        "autolib['BlueCars_taken_sum'].mean()"
      ],
      "execution_count": 25,
      "outputs": [
        {
          "output_type": "execute_result",
          "data": {
            "text/plain": [
              "125.92695057506994"
            ]
          },
          "metadata": {
            "tags": []
          },
          "execution_count": 25
        }
      ]
    },
    {
      "cell_type": "code",
      "metadata": {
        "id": "646SFPJo644m",
        "colab_type": "code",
        "outputId": "b0761caa-b102-47e9-8cf6-6febc2fe5e3f",
        "colab": {
          "base_uri": "https://localhost:8080/",
          "height": 0
        }
      },
      "source": [
        "autolib['BlueCars_taken_sum'].mode()"
      ],
      "execution_count": 26,
      "outputs": [
        {
          "output_type": "execute_result",
          "data": {
            "text/plain": [
              "0    12\n",
              "dtype: int64"
            ]
          },
          "metadata": {
            "tags": []
          },
          "execution_count": 26
        }
      ]
    },
    {
      "cell_type": "code",
      "metadata": {
        "id": "06Cz7cZD64-I",
        "colab_type": "code",
        "outputId": "369e00e0-b43f-4d5f-d458-0f107e670ad4",
        "colab": {
          "base_uri": "https://localhost:8080/",
          "height": 0
        }
      },
      "source": [
        "autolib['BlueCars_taken_sum'].median()"
      ],
      "execution_count": 27,
      "outputs": [
        {
          "output_type": "execute_result",
          "data": {
            "text/plain": [
              "46.0"
            ]
          },
          "metadata": {
            "tags": []
          },
          "execution_count": 27
        }
      ]
    },
    {
      "cell_type": "code",
      "metadata": {
        "id": "4h7809do_jzh",
        "colab_type": "code",
        "outputId": "e1c0bae8-78b9-4caf-c391-904cd6e55403",
        "colab": {
          "base_uri": "https://localhost:8080/",
          "height": 0
        }
      },
      "source": [
        "autolib['BlueCars_taken_sum'].quantile([0.25,0.5,0.75])"
      ],
      "execution_count": 28,
      "outputs": [
        {
          "output_type": "execute_result",
          "data": {
            "text/plain": [
              "0.25     20.0\n",
              "0.50     46.0\n",
              "0.75    135.0\n",
              "Name: BlueCars_taken_sum, dtype: float64"
            ]
          },
          "metadata": {
            "tags": []
          },
          "execution_count": 28
        }
      ]
    },
    {
      "cell_type": "code",
      "metadata": {
        "id": "u6n55iaq_tTt",
        "colab_type": "code",
        "outputId": "84e0ab09-05a5-4314-d734-cb1844db362b",
        "colab": {
          "base_uri": "https://localhost:8080/",
          "height": 0
        }
      },
      "source": [
        "autolib['BlueCars_taken_sum'].std()"
      ],
      "execution_count": 29,
      "outputs": [
        {
          "output_type": "execute_result",
          "data": {
            "text/plain": [
              "185.42657876727893"
            ]
          },
          "metadata": {
            "tags": []
          },
          "execution_count": 29
        }
      ]
    },
    {
      "cell_type": "code",
      "metadata": {
        "id": "qJyfnf9b_tcn",
        "colab_type": "code",
        "outputId": "207b444f-0625-49cb-80b1-e3cfe5856914",
        "colab": {
          "base_uri": "https://localhost:8080/",
          "height": 0
        }
      },
      "source": [
        "autolib['BlueCars_taken_sum'].var()"
      ],
      "execution_count": 30,
      "outputs": [
        {
          "output_type": "execute_result",
          "data": {
            "text/plain": [
              "34383.01611333789"
            ]
          },
          "metadata": {
            "tags": []
          },
          "execution_count": 30
        }
      ]
    },
    {
      "cell_type": "code",
      "metadata": {
        "id": "qAZezh7l2Nxr",
        "colab_type": "code",
        "outputId": "c10ea5c0-660c-4a2f-ae59-05afbc858ddb",
        "colab": {
          "base_uri": "https://localhost:8080/",
          "height": 0
        }
      },
      "source": [
        "#day of the week with the corresponding number of daily data points and a tally of \n",
        "# the entries for unique data points\n",
        "\n",
        "autolib44 = autolib.groupby('dayOfWeek')['n_daily_data_points'].value_counts()\n",
        "autolib44.head()"
      ],
      "execution_count": 31,
      "outputs": [
        {
          "output_type": "execute_result",
          "data": {
            "text/plain": [
              "dayOfWeek  n_daily_data_points\n",
              "0          1440                   1756\n",
              "           1439                    206\n",
              "           1417                    103\n",
              "           1420                    103\n",
              "           1437                    103\n",
              "Name: n_daily_data_points, dtype: int64"
            ]
          },
          "metadata": {
            "tags": []
          },
          "execution_count": 31
        }
      ]
    },
    {
      "cell_type": "code",
      "metadata": {
        "id": "wInSzZ4i_jt0",
        "colab_type": "code",
        "outputId": "b9ea9639-8e59-4cf7-a1a4-0b0e1975c79e",
        "colab": {
          "base_uri": "https://localhost:8080/",
          "height": 0
        }
      },
      "source": [
        "isinstance(autolib44, pd.DataFrame)"
      ],
      "execution_count": 32,
      "outputs": [
        {
          "output_type": "execute_result",
          "data": {
            "text/plain": [
              "False"
            ]
          },
          "metadata": {
            "tags": []
          },
          "execution_count": 32
        }
      ]
    },
    {
      "cell_type": "code",
      "metadata": {
        "id": "TCTtRxATJiHJ",
        "colab_type": "code",
        "colab": {
          "base_uri": "https://localhost:8080/",
          "height": 0
        },
        "outputId": "4091b40d-f2a4-4d77-fe61-95719cb8ceb1"
      },
      "source": [
        "autolib99 =autolib[(autolib['n_daily_data_points']  == 1440)]\n",
        "autolib99.head()"
      ],
      "execution_count": 33,
      "outputs": [
        {
          "output_type": "execute_result",
          "data": {
            "text/html": [
              "<div>\n",
              "<style scoped>\n",
              "    .dataframe tbody tr th:only-of-type {\n",
              "        vertical-align: middle;\n",
              "    }\n",
              "\n",
              "    .dataframe tbody tr th {\n",
              "        vertical-align: top;\n",
              "    }\n",
              "\n",
              "    .dataframe thead th {\n",
              "        text-align: right;\n",
              "    }\n",
              "</style>\n",
              "<table border=\"1\" class=\"dataframe\">\n",
              "  <thead>\n",
              "    <tr style=\"text-align: right;\">\n",
              "      <th></th>\n",
              "      <th>Postal_code</th>\n",
              "      <th>date</th>\n",
              "      <th>n_daily_data_points</th>\n",
              "      <th>dayOfWeek</th>\n",
              "      <th>day_type</th>\n",
              "      <th>BlueCars_taken_sum</th>\n",
              "      <th>BlueCars_returned_sum</th>\n",
              "      <th>Utilib_taken_sum</th>\n",
              "      <th>Utilib_returned_sum</th>\n",
              "      <th>Utilib_14_taken_sum</th>\n",
              "      <th>Utilib_14_returned_sum</th>\n",
              "      <th>Slots_freed_sum</th>\n",
              "      <th>Slots_taken_sum</th>\n",
              "    </tr>\n",
              "  </thead>\n",
              "  <tbody>\n",
              "    <tr>\n",
              "      <th>0</th>\n",
              "      <td>75001</td>\n",
              "      <td>1/1/2018</td>\n",
              "      <td>1440</td>\n",
              "      <td>0</td>\n",
              "      <td>weekday</td>\n",
              "      <td>110</td>\n",
              "      <td>103</td>\n",
              "      <td>3</td>\n",
              "      <td>2</td>\n",
              "      <td>10</td>\n",
              "      <td>9</td>\n",
              "      <td>22</td>\n",
              "      <td>20</td>\n",
              "    </tr>\n",
              "    <tr>\n",
              "      <th>4</th>\n",
              "      <td>75001</td>\n",
              "      <td>1/5/2018</td>\n",
              "      <td>1440</td>\n",
              "      <td>4</td>\n",
              "      <td>weekday</td>\n",
              "      <td>114</td>\n",
              "      <td>117</td>\n",
              "      <td>3</td>\n",
              "      <td>3</td>\n",
              "      <td>6</td>\n",
              "      <td>6</td>\n",
              "      <td>18</td>\n",
              "      <td>20</td>\n",
              "    </tr>\n",
              "    <tr>\n",
              "      <th>6</th>\n",
              "      <td>75001</td>\n",
              "      <td>1/7/2018</td>\n",
              "      <td>1440</td>\n",
              "      <td>6</td>\n",
              "      <td>weekend</td>\n",
              "      <td>180</td>\n",
              "      <td>180</td>\n",
              "      <td>2</td>\n",
              "      <td>2</td>\n",
              "      <td>10</td>\n",
              "      <td>9</td>\n",
              "      <td>34</td>\n",
              "      <td>34</td>\n",
              "    </tr>\n",
              "    <tr>\n",
              "      <th>9</th>\n",
              "      <td>75001</td>\n",
              "      <td>1/10/2018</td>\n",
              "      <td>1440</td>\n",
              "      <td>2</td>\n",
              "      <td>weekday</td>\n",
              "      <td>88</td>\n",
              "      <td>85</td>\n",
              "      <td>5</td>\n",
              "      <td>5</td>\n",
              "      <td>11</td>\n",
              "      <td>11</td>\n",
              "      <td>23</td>\n",
              "      <td>22</td>\n",
              "    </tr>\n",
              "    <tr>\n",
              "      <th>10</th>\n",
              "      <td>75001</td>\n",
              "      <td>1/11/2018</td>\n",
              "      <td>1440</td>\n",
              "      <td>3</td>\n",
              "      <td>weekday</td>\n",
              "      <td>125</td>\n",
              "      <td>125</td>\n",
              "      <td>3</td>\n",
              "      <td>4</td>\n",
              "      <td>13</td>\n",
              "      <td>13</td>\n",
              "      <td>22</td>\n",
              "      <td>22</td>\n",
              "    </tr>\n",
              "  </tbody>\n",
              "</table>\n",
              "</div>"
            ],
            "text/plain": [
              "    Postal_code       date  ...  Slots_freed_sum  Slots_taken_sum\n",
              "0         75001   1/1/2018  ...               22               20\n",
              "4         75001   1/5/2018  ...               18               20\n",
              "6         75001   1/7/2018  ...               34               34\n",
              "9         75001  1/10/2018  ...               23               22\n",
              "10        75001  1/11/2018  ...               22               22\n",
              "\n",
              "[5 rows x 13 columns]"
            ]
          },
          "metadata": {
            "tags": []
          },
          "execution_count": 33
        }
      ]
    },
    {
      "cell_type": "markdown",
      "metadata": {
        "id": "A1F645qI9SKZ",
        "colab_type": "text"
      },
      "source": [
        "##### Answering Univariate Questions"
      ]
    },
    {
      "cell_type": "code",
      "metadata": {
        "id": "Zsx_homkJkwy",
        "colab_type": "code",
        "colab": {
          "base_uri": "https://localhost:8080/",
          "height": 0
        },
        "outputId": "167d65c3-a23a-4d73-d164-1a2afe1a7896"
      },
      "source": [
        "#Which day of the week had the highest no of daily data points\n",
        "\n",
        "(autolib99.groupby('dayOfWeek')['n_daily_data_points'].sum().sort_values(ascending = False)).head(1)\n"
      ],
      "execution_count": 34,
      "outputs": [
        {
          "output_type": "execute_result",
          "data": {
            "text/plain": [
              "dayOfWeek\n",
              "6    2679840\n",
              "Name: n_daily_data_points, dtype: int64"
            ]
          },
          "metadata": {
            "tags": []
          },
          "execution_count": 34
        }
      ]
    },
    {
      "cell_type": "code",
      "metadata": {
        "id": "O21zzfYr9tff",
        "colab_type": "code",
        "colab": {
          "base_uri": "https://localhost:8080/",
          "height": 0
        },
        "outputId": "3a393422-f6c3-4f95-b194-904338fbb32f"
      },
      "source": [
        "#Which day of the week had the highest no of Blue cars taken\n",
        "(autolib99.groupby('dayOfWeek')['BlueCars_taken_sum'].sum().sort_values(ascending = False)).head(3)\n"
      ],
      "execution_count": 35,
      "outputs": [
        {
          "output_type": "execute_result",
          "data": {
            "text/plain": [
              "dayOfWeek\n",
              "5    282704\n",
              "6    270987\n",
              "0    197779\n",
              "Name: BlueCars_taken_sum, dtype: int64"
            ]
          },
          "metadata": {
            "tags": []
          },
          "execution_count": 35
        }
      ]
    },
    {
      "cell_type": "code",
      "metadata": {
        "id": "uUIlgbDv9t0Q",
        "colab_type": "code",
        "colab": {
          "base_uri": "https://localhost:8080/",
          "height": 0
        },
        "outputId": "3f2ee0e0-64a8-4ee5-81d1-334b12efabf3"
      },
      "source": [
        "#Which day of the week had the highest no of Blue cars returned\n",
        "(autolib99.groupby('dayOfWeek')['BlueCars_returned_sum'].sum().sort_values(ascending = False)).head(3)\n"
      ],
      "execution_count": 36,
      "outputs": [
        {
          "output_type": "execute_result",
          "data": {
            "text/plain": [
              "dayOfWeek\n",
              "5    281018\n",
              "6    276444\n",
              "0    198530\n",
              "Name: BlueCars_returned_sum, dtype: int64"
            ]
          },
          "metadata": {
            "tags": []
          },
          "execution_count": 36
        }
      ]
    },
    {
      "cell_type": "code",
      "metadata": {
        "id": "yftKFtFk9twx",
        "colab_type": "code",
        "colab": {
          "base_uri": "https://localhost:8080/",
          "height": 0
        },
        "outputId": "0fd4dd1d-2458-437b-c99c-39cb58ded9a8"
      },
      "source": [
        "#Which Postal code had the highest no of Blue cars taken\n",
        "(autolib99.groupby('Postal_code')['BlueCars_taken_sum'].sum().sort_values(ascending = False)).head(3)\n"
      ],
      "execution_count": 37,
      "outputs": [
        {
          "output_type": "execute_result",
          "data": {
            "text/plain": [
              "Postal_code\n",
              "75015    91181\n",
              "75016    79992\n",
              "75017    74261\n",
              "Name: BlueCars_taken_sum, dtype: int64"
            ]
          },
          "metadata": {
            "tags": []
          },
          "execution_count": 37
        }
      ]
    },
    {
      "cell_type": "code",
      "metadata": {
        "id": "cK6ScpgF9ttQ",
        "colab_type": "code",
        "colab": {
          "base_uri": "https://localhost:8080/",
          "height": 0
        },
        "outputId": "33a51ddc-287e-484e-fb27-23e02a78605b"
      },
      "source": [
        "#Which Postal code had the highest no of Blue cars returned\n",
        "(autolib99.groupby('Postal_code')['BlueCars_returned_sum'].sum().sort_values(ascending = False)).head(1)\n",
        "\n"
      ],
      "execution_count": 38,
      "outputs": [
        {
          "output_type": "execute_result",
          "data": {
            "text/plain": [
              "Postal_code\n",
              "75015    91652\n",
              "Name: BlueCars_returned_sum, dtype: int64"
            ]
          },
          "metadata": {
            "tags": []
          },
          "execution_count": 38
        }
      ]
    },
    {
      "cell_type": "code",
      "metadata": {
        "id": "gyAr0Ksy9to5",
        "colab_type": "code",
        "colab": {}
      },
      "source": [
        ""
      ],
      "execution_count": 0,
      "outputs": []
    },
    {
      "cell_type": "code",
      "metadata": {
        "id": "QruqYlt-9tlg",
        "colab_type": "code",
        "colab": {}
      },
      "source": [
        ""
      ],
      "execution_count": 0,
      "outputs": []
    },
    {
      "cell_type": "code",
      "metadata": {
        "id": "_CcFEO8i9taD",
        "colab_type": "code",
        "colab": {}
      },
      "source": [
        ""
      ],
      "execution_count": 0,
      "outputs": []
    },
    {
      "cell_type": "code",
      "metadata": {
        "id": "1_3O741WHZ5Z",
        "colab_type": "code",
        "colab": {}
      },
      "source": [
        ""
      ],
      "execution_count": 0,
      "outputs": []
    },
    {
      "cell_type": "code",
      "metadata": {
        "id": "NLTH1e-GIblu",
        "colab_type": "code",
        "colab": {}
      },
      "source": [
        ""
      ],
      "execution_count": 0,
      "outputs": []
    },
    {
      "cell_type": "code",
      "metadata": {
        "id": "b2M_HJfE806W",
        "colab_type": "code",
        "colab": {}
      },
      "source": [
        ""
      ],
      "execution_count": 0,
      "outputs": []
    },
    {
      "cell_type": "code",
      "metadata": {
        "id": "ZEYixKG04RUS",
        "colab_type": "code",
        "colab": {}
      },
      "source": [
        ""
      ],
      "execution_count": 0,
      "outputs": []
    },
    {
      "cell_type": "code",
      "metadata": {
        "id": "Rt3CqzkoqV4y",
        "colab_type": "code",
        "colab": {
          "base_uri": "https://localhost:8080/",
          "height": 0
        },
        "outputId": "2614a9f9-a861-4aa0-ac0d-ff1e09c3ecb9"
      },
      "source": [
        "sns.boxplot(autolib[\"n_daily_data_points\"], showmeans=True)\n"
      ],
      "execution_count": 39,
      "outputs": [
        {
          "output_type": "execute_result",
          "data": {
            "text/plain": [
              "<matplotlib.axes._subplots.AxesSubplot at 0x7f7cd20189b0>"
            ]
          },
          "metadata": {
            "tags": []
          },
          "execution_count": 39
        },
        {
          "output_type": "display_data",
          "data": {
            "image/png": "[encoded data removed]",
            "text/plain": [
              "<Figure size 432x288 with 1 Axes>"
            ]
          },
          "metadata": {
            "tags": []
          }
        }
      ]
    },
    {
      "cell_type": "code",
      "metadata": {
        "id": "gx3xj_aLoeoj",
        "colab_type": "code",
        "outputId": "c3616b89-4f98-4651-c7ab-0d57da5af7a8",
        "colab": {
          "base_uri": "https://localhost:8080/",
          "height": 0
        }
      },
      "source": [
        "autolib2 = autolib.head(100)\n",
        "\n",
        "fig, ax = plt.subplots(figsize=(16,8))\n",
        "\n",
        "ax.scatter(autolib[\"n_daily_data_points\"] ,autolib[\"Postal_code\"])\n",
        "\n",
        "ax.set_xlabel(\"n_daily_data_points\")\n",
        "\n",
        "ax.set_ylabel(\"Postal_code\")\n",
        "\n",
        "plt.show()"
      ],
      "execution_count": 40,
      "outputs": [
        {
          "output_type": "display_data",
          "data": {
            "image/png": "[encoded data removed]",
            "text/plain": [
              "<Figure size 1152x576 with 1 Axes>"
            ]
          },
          "metadata": {
            "tags": []
          }
        }
      ]
    },
    {
      "cell_type": "code",
      "metadata": {
        "id": "amWq0kPdAkhV",
        "colab_type": "code",
        "outputId": "e6f29c33-3934-4a91-f9f7-2967cbbbf79f",
        "colab": {
          "base_uri": "https://localhost:8080/",
          "height": 0
        }
      },
      "source": [
        "sns.boxplot(autolib[\"BlueCars_taken_sum\"], showmeans=True)\n"
      ],
      "execution_count": 41,
      "outputs": [
        {
          "output_type": "execute_result",
          "data": {
            "text/plain": [
              "<matplotlib.axes._subplots.AxesSubplot at 0x7f7cd1f5bef0>"
            ]
          },
          "metadata": {
            "tags": []
          },
          "execution_count": 41
        },
        {
          "output_type": "display_data",
          "data": {
            "image/png": "[encoded data removed]",
            "text/plain": [
              "<Figure size 432x288 with 1 Axes>"
            ]
          },
          "metadata": {
            "tags": []
          }
        }
      ]
    },
    {
      "cell_type": "code",
      "metadata": {
        "id": "9sOA8Cyh2aQs",
        "colab_type": "code",
        "colab": {}
      },
      "source": [
        ""
      ],
      "execution_count": 0,
      "outputs": []
    },
    {
      "cell_type": "code",
      "metadata": {
        "id": "YNF2SUKZLBV5",
        "colab_type": "code",
        "colab": {}
      },
      "source": [
        ""
      ],
      "execution_count": 0,
      "outputs": []
    },
    {
      "cell_type": "code",
      "metadata": {
        "id": "T-Z6HcZBoY1o",
        "colab_type": "code",
        "colab": {
          "base_uri": "https://localhost:8080/",
          "height": 0
        },
        "outputId": "b7dcab63-987f-4d23-9a77-0310b929e1c3"
      },
      "source": [
        "autolib.groupby('Postal_code')[\"day_type\"].value_counts()"
      ],
      "execution_count": 42,
      "outputs": [
        {
          "output_type": "execute_result",
          "data": {
            "text/plain": [
              "Postal_code  day_type\n",
              "75001        weekday     112\n",
              "             weekend      44\n",
              "75002        weekday     112\n",
              "             weekend      44\n",
              "75003        weekday     112\n",
              "             weekend      44\n",
              "75004        weekday     112\n",
              "             weekend      44\n",
              "75005        weekday     112\n",
              "             weekend      44\n",
              "75006        weekday     112\n",
              "             weekend      44\n",
              "75007        weekday     112\n",
              "             weekend      44\n",
              "75008        weekday     112\n",
              "             weekend      44\n",
              "75009        weekday     112\n",
              "             weekend      44\n",
              "75010        weekday     112\n",
              "             weekend      44\n",
              "75011        weekday     112\n",
              "             weekend      44\n",
              "75012        weekday     112\n",
              "             weekend      44\n",
              "75013        weekday     112\n",
              "             weekend      44\n",
              "75014        weekday     112\n",
              "             weekend      44\n",
              "75015        weekday     112\n",
              "             weekend      44\n",
              "                        ... \n",
              "94140        weekday     112\n",
              "             weekend      44\n",
              "94150        weekday     112\n",
              "             weekend      44\n",
              "94160        weekday     112\n",
              "             weekend      44\n",
              "94220        weekday     112\n",
              "             weekend      44\n",
              "94230        weekday     112\n",
              "             weekend      44\n",
              "94300        weekday     112\n",
              "             weekend      44\n",
              "94340        weekday     112\n",
              "             weekend      44\n",
              "94410        weekday     111\n",
              "             weekend      44\n",
              "94450        weekday     112\n",
              "             weekend      44\n",
              "94500        weekday     112\n",
              "             weekend      44\n",
              "94700        weekday     112\n",
              "             weekend      44\n",
              "94800        weekday     112\n",
              "             weekend      44\n",
              "95100        weekday     112\n",
              "             weekend      44\n",
              "95870        weekday     112\n",
              "             weekend      44\n",
              "95880        weekday     112\n",
              "             weekend      44\n",
              "Name: day_type, Length: 208, dtype: int64"
            ]
          },
          "metadata": {
            "tags": []
          },
          "execution_count": 42
        }
      ]
    },
    {
      "cell_type": "markdown",
      "metadata": {
        "id": "E_H6PRI39Faw",
        "colab_type": "text"
      },
      "source": [
        ""
      ]
    },
    {
      "cell_type": "markdown",
      "metadata": {
        "id": "qpk-eZO09Klw",
        "colab_type": "text"
      },
      "source": [
        ""
      ]
    },
    {
      "cell_type": "markdown",
      "metadata": {
        "id": "W-2QsM82A9nq",
        "colab_type": "text"
      },
      "source": [
        ""
      ]
    },
    {
      "cell_type": "markdown",
      "metadata": {
        "id": "GvNbUFioBFUm",
        "colab_type": "text"
      },
      "source": [
        "###Bivariate Analysis"
      ]
    },
    {
      "cell_type": "code",
      "metadata": {
        "id": "RVgDqyceBNGT",
        "colab_type": "code",
        "outputId": "1884cfd8-fe5f-4efb-c70c-7885d1886000",
        "colab": {
          "base_uri": "https://localhost:8080/",
          "height": 0
        }
      },
      "source": [
        "# scatter plot of blue cars against day of the week\n",
        "\n",
        "\n",
        "plt.scatter(autolib['dayOfWeek'], autolib['BlueCars_taken_sum'])\n",
        "plt.title('')\n",
        "\n",
        "plt.xlabel('dayOfWeek')\n",
        "\n",
        "plt.ylabel('BlueCars_taken_sum')\n",
        "\n",
        "plt.show()"
      ],
      "execution_count": 43,
      "outputs": [
        {
          "output_type": "display_data",
          "data": {
            "image/png": "[encoded data removed]",
            "text/plain": [
              "<Figure size 432x288 with 1 Axes>"
            ]
          },
          "metadata": {
            "tags": []
          }
        }
      ]
    },
    {
      "cell_type": "code",
      "metadata": {
        "id": "5cbQyPSYCW__",
        "colab_type": "code",
        "outputId": "2c5def2a-b176-43ca-9741-0ece96eb1071",
        "colab": {
          "base_uri": "https://localhost:8080/",
          "height": 0
        }
      },
      "source": [
        "plt.scatter(autolib['n_daily_data_points'], autolib['BlueCars_taken_sum'])\n",
        "plt.title('')\n",
        "\n",
        "plt.xlabel('n_daily_data_points')\n",
        "\n",
        "plt.ylabel('BlueCars_taken_sum')\n",
        "\n",
        "plt.show()"
      ],
      "execution_count": 44,
      "outputs": [
        {
          "output_type": "display_data",
          "data": {
            "image/png": "[encoded data removed]",
            "text/plain": [
              "<Figure size 432x288 with 1 Axes>"
            ]
          },
          "metadata": {
            "tags": []
          }
        }
      ]
    },
    {
      "cell_type": "code",
      "metadata": {
        "id": "9bTbBQJ4CXpn",
        "colab_type": "code",
        "colab": {
          "base_uri": "https://localhost:8080/",
          "height": 0
        },
        "outputId": "e3354b27-aba2-44e6-926f-0f7a73f5b65b"
      },
      "source": [
        "plt.scatter(autolib['Postal_code'], autolib['BlueCars_taken_sum'])\n",
        "plt.title('')\n",
        "\n",
        "plt.xlabel('Postal_code')\n",
        "\n",
        "plt.ylabel('BlueCars_taken_sum')\n",
        "\n",
        "plt.show()"
      ],
      "execution_count": 45,
      "outputs": [
        {
          "output_type": "display_data",
          "data": {
            "image/png": "[encoded data removed]",
            "text/plain": [
              "<Figure size 432x288 with 1 Axes>"
            ]
          },
          "metadata": {
            "tags": []
          }
        }
      ]
    },
    {
      "cell_type": "code",
      "metadata": {
        "id": "miuG2KyrFl7t",
        "colab_type": "code",
        "colab": {}
      },
      "source": [
        ""
      ],
      "execution_count": 0,
      "outputs": []
    },
    {
      "cell_type": "code",
      "metadata": {
        "id": "ijsvoQs1EXRW",
        "colab_type": "code",
        "outputId": "2d7768c8-9fcd-469d-8886-84436e241eae",
        "colab": {
          "base_uri": "https://localhost:8080/",
          "height": 0
        }
      },
      "source": [
        "plt.figure(figsize=(3, 3))\n",
        "sns.pairplot(autolib_blue, diag_kind='kde');"
      ],
      "execution_count": 46,
      "outputs": [
        {
          "output_type": "display_data",
          "data": {
            "text/plain": [
              "<Figure size 216x216 with 0 Axes>"
            ]
          },
          "metadata": {
            "tags": []
          }
        },
        {
          "output_type": "display_data",
          "data": {
            "image/png": "[encoded data removed]",
            "text/plain": [
              "<Figure size 900x900 with 30 Axes>"
            ]
          },
          "metadata": {
            "tags": []
          }
        }
      ]
    },
    {
      "cell_type": "code",
      "metadata": {
        "id": "y8JNJBDhGDMe",
        "colab_type": "code",
        "colab": {
          "base_uri": "https://localhost:8080/",
          "height": 0
        },
        "outputId": "79c67dac-e9d5-4d1c-8a32-b03588d3e3a3"
      },
      "source": [
        "# Scatter of blue cars taken vs blue cars returned\n",
        "\n",
        "plt.scatter(autolib['BlueCars_returned_sum'], autolib['BlueCars_taken_sum'])\n",
        "plt.title('')\n",
        "\n",
        "plt.xlabel('BlueCars_returned_sum')\n",
        "\n",
        "plt.ylabel('BlueCars_taken_sum')\n",
        "\n",
        "plt.show()"
      ],
      "execution_count": 47,
      "outputs": [
        {
          "output_type": "display_data",
          "data": {
            "image/png": "[encoded data removed]",
            "text/plain": [
              "<Figure size 432x288 with 1 Axes>"
            ]
          },
          "metadata": {
            "tags": []
          }
        }
      ]
    },
    {
      "cell_type": "code",
      "metadata": {
        "id": "Waw60prVMXs1",
        "colab_type": "code",
        "colab": {
          "base_uri": "https://localhost:8080/",
          "height": 0
        },
        "outputId": "4819c900-2cd5-4b44-f997-27c512f56865"
      },
      "source": [
        "# Scatter of blue cars taken vs Utilib taken\n",
        "\n",
        "\n",
        "plt.scatter(autolib['BlueCars_taken_sum'], autolib['Utilib_taken_sum'])\n",
        "plt.title('')\n",
        "\n",
        "plt.xlabel('BlueCars_taken_sum')\n",
        "\n",
        "plt.ylabel('Utilib_taken_sum')\n",
        "\n",
        "plt.show()"
      ],
      "execution_count": 48,
      "outputs": [
        {
          "output_type": "display_data",
          "data": {
            "image/png": "[encoded data removed]",
            "text/plain": [
              "<Figure size 432x288 with 1 Axes>"
            ]
          },
          "metadata": {
            "tags": []
          }
        }
      ]
    },
    {
      "cell_type": "code",
      "metadata": {
        "id": "ocdpKGRMMxPX",
        "colab_type": "code",
        "colab": {
          "base_uri": "https://localhost:8080/",
          "height": 0
        },
        "outputId": "36b2fe42-8a07-43eb-d9a6-25cb6a38c3a3"
      },
      "source": [
        "# Scatter of blue cars taken vs Utilib14 taken\n",
        "\n",
        "\n",
        "plt.scatter(autolib['BlueCars_taken_sum'], autolib['Utilib_14_taken_sum'])\n",
        "plt.title('')\n",
        "\n",
        "plt.xlabel('BlueCars_taken_sum')\n",
        "\n",
        "plt.ylabel('Utilib_14_taken_sum')\n",
        "\n",
        "plt.show()"
      ],
      "execution_count": 49,
      "outputs": [
        {
          "output_type": "display_data",
          "data": {
            "image/png": "[encoded data removed]",
            "text/plain": [
              "<Figure size 432x288 with 1 Axes>"
            ]
          },
          "metadata": {
            "tags": []
          }
        }
      ]
    },
    {
      "cell_type": "code",
      "metadata": {
        "id": "k9oRDcAnCyv9",
        "colab_type": "code",
        "colab": {
          "base_uri": "https://localhost:8080/",
          "height": 0
        },
        "outputId": "80924c6d-271f-44da-c865-eb044a901dc9"
      },
      "source": [
        "# Plotting our line graph\n",
        "autolib[[\"BlueCars_taken_sum\"]].plot()\n",
        "\n",
        "# Giving a title to our line graph\n",
        "plt.title(\"\", fontsize=14, y=1.015)\n",
        "\n",
        "# Labelling the y-axis\n",
        "plt.ylabel('BlueCars_taken_sum')\n",
        "# Labelling the x-axis\n",
        "plt.xlabel('Total number of blue cars taken')\n",
        "\n",
        "# Displaying our graph\n",
        "plt.show()"
      ],
      "execution_count": 50,
      "outputs": [
        {
          "output_type": "display_data",
          "data": {
            "image/png": "[encoded data removed]",
            "text/plain": [
              "<Figure size 432x288 with 1 Axes>"
            ]
          },
          "metadata": {
            "tags": []
          }
        }
      ]
    },
    {
      "cell_type": "code",
      "metadata": {
        "id": "R6FM3eGxxM6A",
        "colab_type": "code",
        "colab": {}
      },
      "source": [
        ""
      ],
      "execution_count": 0,
      "outputs": []
    },
    {
      "cell_type": "code",
      "metadata": {
        "id": "029AJDIMHMPL",
        "colab_type": "code",
        "colab": {}
      },
      "source": [
        ""
      ],
      "execution_count": 0,
      "outputs": []
    },
    {
      "cell_type": "markdown",
      "metadata": {
        "id": "xrKjBeZTOKiL",
        "colab_type": "text"
      },
      "source": [
        ""
      ]
    },
    {
      "cell_type": "markdown",
      "metadata": {
        "id": "SxwS1qxEN5RD",
        "colab_type": "text"
      },
      "source": [
        ""
      ]
    },
    {
      "cell_type": "markdown",
      "metadata": {
        "id": "pmPDCW2aOHXv",
        "colab_type": "text"
      },
      "source": [
        "###Multivariate Analysis"
      ]
    },
    {
      "cell_type": "code",
      "metadata": {
        "id": "IMp9H7KFOQKp",
        "colab_type": "code",
        "outputId": "d1d1cde4-a1ab-4d57-9c7e-c8dda35a045d",
        "colab": {
          "base_uri": "https://localhost:8080/",
          "height": 226
        }
      },
      "source": [
        "autolib_copy = autolib.copy()\n",
        "autolib_copy.head()"
      ],
      "execution_count": 51,
      "outputs": [
        {
          "output_type": "execute_result",
          "data": {
            "text/html": [
              "<div>\n",
              "<style scoped>\n",
              "    .dataframe tbody tr th:only-of-type {\n",
              "        vertical-align: middle;\n",
              "    }\n",
              "\n",
              "    .dataframe tbody tr th {\n",
              "        vertical-align: top;\n",
              "    }\n",
              "\n",
              "    .dataframe thead th {\n",
              "        text-align: right;\n",
              "    }\n",
              "</style>\n",
              "<table border=\"1\" class=\"dataframe\">\n",
              "  <thead>\n",
              "    <tr style=\"text-align: right;\">\n",
              "      <th></th>\n",
              "      <th>Postal_code</th>\n",
              "      <th>date</th>\n",
              "      <th>n_daily_data_points</th>\n",
              "      <th>dayOfWeek</th>\n",
              "      <th>day_type</th>\n",
              "      <th>BlueCars_taken_sum</th>\n",
              "      <th>BlueCars_returned_sum</th>\n",
              "      <th>Utilib_taken_sum</th>\n",
              "      <th>Utilib_returned_sum</th>\n",
              "      <th>Utilib_14_taken_sum</th>\n",
              "      <th>Utilib_14_returned_sum</th>\n",
              "      <th>Slots_freed_sum</th>\n",
              "      <th>Slots_taken_sum</th>\n",
              "    </tr>\n",
              "  </thead>\n",
              "  <tbody>\n",
              "    <tr>\n",
              "      <th>0</th>\n",
              "      <td>75001</td>\n",
              "      <td>1/1/2018</td>\n",
              "      <td>1440</td>\n",
              "      <td>0</td>\n",
              "      <td>weekday</td>\n",
              "      <td>110</td>\n",
              "      <td>103</td>\n",
              "      <td>3</td>\n",
              "      <td>2</td>\n",
              "      <td>10</td>\n",
              "      <td>9</td>\n",
              "      <td>22</td>\n",
              "      <td>20</td>\n",
              "    </tr>\n",
              "    <tr>\n",
              "      <th>1</th>\n",
              "      <td>75001</td>\n",
              "      <td>1/2/2018</td>\n",
              "      <td>1438</td>\n",
              "      <td>1</td>\n",
              "      <td>weekday</td>\n",
              "      <td>98</td>\n",
              "      <td>94</td>\n",
              "      <td>1</td>\n",
              "      <td>1</td>\n",
              "      <td>8</td>\n",
              "      <td>8</td>\n",
              "      <td>23</td>\n",
              "      <td>22</td>\n",
              "    </tr>\n",
              "    <tr>\n",
              "      <th>2</th>\n",
              "      <td>75001</td>\n",
              "      <td>1/3/2018</td>\n",
              "      <td>1439</td>\n",
              "      <td>2</td>\n",
              "      <td>weekday</td>\n",
              "      <td>138</td>\n",
              "      <td>139</td>\n",
              "      <td>0</td>\n",
              "      <td>0</td>\n",
              "      <td>2</td>\n",
              "      <td>2</td>\n",
              "      <td>27</td>\n",
              "      <td>27</td>\n",
              "    </tr>\n",
              "    <tr>\n",
              "      <th>3</th>\n",
              "      <td>75001</td>\n",
              "      <td>1/4/2018</td>\n",
              "      <td>1320</td>\n",
              "      <td>3</td>\n",
              "      <td>weekday</td>\n",
              "      <td>104</td>\n",
              "      <td>104</td>\n",
              "      <td>2</td>\n",
              "      <td>2</td>\n",
              "      <td>9</td>\n",
              "      <td>8</td>\n",
              "      <td>25</td>\n",
              "      <td>21</td>\n",
              "    </tr>\n",
              "    <tr>\n",
              "      <th>4</th>\n",
              "      <td>75001</td>\n",
              "      <td>1/5/2018</td>\n",
              "      <td>1440</td>\n",
              "      <td>4</td>\n",
              "      <td>weekday</td>\n",
              "      <td>114</td>\n",
              "      <td>117</td>\n",
              "      <td>3</td>\n",
              "      <td>3</td>\n",
              "      <td>6</td>\n",
              "      <td>6</td>\n",
              "      <td>18</td>\n",
              "      <td>20</td>\n",
              "    </tr>\n",
              "  </tbody>\n",
              "</table>\n",
              "</div>"
            ],
            "text/plain": [
              "   Postal_code      date  ...  Slots_freed_sum  Slots_taken_sum\n",
              "0        75001  1/1/2018  ...               22               20\n",
              "1        75001  1/2/2018  ...               23               22\n",
              "2        75001  1/3/2018  ...               27               27\n",
              "3        75001  1/4/2018  ...               25               21\n",
              "4        75001  1/5/2018  ...               18               20\n",
              "\n",
              "[5 rows x 13 columns]"
            ]
          },
          "metadata": {
            "tags": []
          },
          "execution_count": 51
        }
      ]
    },
    {
      "cell_type": "code",
      "metadata": {
        "id": "U_yU9iuNtYnA",
        "colab_type": "code",
        "colab": {}
      },
      "source": [
        "autolib_copy[\"day_type\"] = autolib_copy[\"day_type\"].map({\"weekday\" : 0 , \"weekend\" :1})"
      ],
      "execution_count": 0,
      "outputs": []
    },
    {
      "cell_type": "code",
      "metadata": {
        "id": "Gmq6wy__tYu-",
        "colab_type": "code",
        "outputId": "3e014cde-5552-4383-ac64-80541f64efc1",
        "colab": {
          "base_uri": "https://localhost:8080/",
          "height": 226
        }
      },
      "source": [
        "autolib_copy.tail()"
      ],
      "execution_count": 53,
      "outputs": [
        {
          "output_type": "execute_result",
          "data": {
            "text/html": [
              "<div>\n",
              "<style scoped>\n",
              "    .dataframe tbody tr th:only-of-type {\n",
              "        vertical-align: middle;\n",
              "    }\n",
              "\n",
              "    .dataframe tbody tr th {\n",
              "        vertical-align: top;\n",
              "    }\n",
              "\n",
              "    .dataframe thead th {\n",
              "        text-align: right;\n",
              "    }\n",
              "</style>\n",
              "<table border=\"1\" class=\"dataframe\">\n",
              "  <thead>\n",
              "    <tr style=\"text-align: right;\">\n",
              "      <th></th>\n",
              "      <th>Postal_code</th>\n",
              "      <th>date</th>\n",
              "      <th>n_daily_data_points</th>\n",
              "      <th>dayOfWeek</th>\n",
              "      <th>day_type</th>\n",
              "      <th>BlueCars_taken_sum</th>\n",
              "      <th>BlueCars_returned_sum</th>\n",
              "      <th>Utilib_taken_sum</th>\n",
              "      <th>Utilib_returned_sum</th>\n",
              "      <th>Utilib_14_taken_sum</th>\n",
              "      <th>Utilib_14_returned_sum</th>\n",
              "      <th>Slots_freed_sum</th>\n",
              "      <th>Slots_taken_sum</th>\n",
              "    </tr>\n",
              "  </thead>\n",
              "  <tbody>\n",
              "    <tr>\n",
              "      <th>16080</th>\n",
              "      <td>95880</td>\n",
              "      <td>6/15/2018</td>\n",
              "      <td>1440</td>\n",
              "      <td>4</td>\n",
              "      <td>0</td>\n",
              "      <td>15</td>\n",
              "      <td>10</td>\n",
              "      <td>0</td>\n",
              "      <td>0</td>\n",
              "      <td>2</td>\n",
              "      <td>3</td>\n",
              "      <td>0</td>\n",
              "      <td>0</td>\n",
              "    </tr>\n",
              "    <tr>\n",
              "      <th>16081</th>\n",
              "      <td>95880</td>\n",
              "      <td>6/16/2018</td>\n",
              "      <td>1440</td>\n",
              "      <td>5</td>\n",
              "      <td>1</td>\n",
              "      <td>19</td>\n",
              "      <td>19</td>\n",
              "      <td>0</td>\n",
              "      <td>0</td>\n",
              "      <td>2</td>\n",
              "      <td>1</td>\n",
              "      <td>0</td>\n",
              "      <td>0</td>\n",
              "    </tr>\n",
              "    <tr>\n",
              "      <th>16082</th>\n",
              "      <td>95880</td>\n",
              "      <td>6/17/2018</td>\n",
              "      <td>1440</td>\n",
              "      <td>6</td>\n",
              "      <td>1</td>\n",
              "      <td>33</td>\n",
              "      <td>35</td>\n",
              "      <td>1</td>\n",
              "      <td>1</td>\n",
              "      <td>0</td>\n",
              "      <td>0</td>\n",
              "      <td>0</td>\n",
              "      <td>0</td>\n",
              "    </tr>\n",
              "    <tr>\n",
              "      <th>16083</th>\n",
              "      <td>95880</td>\n",
              "      <td>6/18/2018</td>\n",
              "      <td>1440</td>\n",
              "      <td>0</td>\n",
              "      <td>0</td>\n",
              "      <td>11</td>\n",
              "      <td>14</td>\n",
              "      <td>3</td>\n",
              "      <td>5</td>\n",
              "      <td>2</td>\n",
              "      <td>2</td>\n",
              "      <td>0</td>\n",
              "      <td>0</td>\n",
              "    </tr>\n",
              "    <tr>\n",
              "      <th>16084</th>\n",
              "      <td>95880</td>\n",
              "      <td>6/19/2018</td>\n",
              "      <td>1370</td>\n",
              "      <td>1</td>\n",
              "      <td>0</td>\n",
              "      <td>2</td>\n",
              "      <td>2</td>\n",
              "      <td>2</td>\n",
              "      <td>1</td>\n",
              "      <td>0</td>\n",
              "      <td>0</td>\n",
              "      <td>0</td>\n",
              "      <td>0</td>\n",
              "    </tr>\n",
              "  </tbody>\n",
              "</table>\n",
              "</div>"
            ],
            "text/plain": [
              "       Postal_code       date  ...  Slots_freed_sum  Slots_taken_sum\n",
              "16080        95880  6/15/2018  ...                0                0\n",
              "16081        95880  6/16/2018  ...                0                0\n",
              "16082        95880  6/17/2018  ...                0                0\n",
              "16083        95880  6/18/2018  ...                0                0\n",
              "16084        95880  6/19/2018  ...                0                0\n",
              "\n",
              "[5 rows x 13 columns]"
            ]
          },
          "metadata": {
            "tags": []
          },
          "execution_count": 53
        }
      ]
    },
    {
      "cell_type": "code",
      "metadata": {
        "id": "tIYzwIwitYsF",
        "colab_type": "code",
        "outputId": "4e5511d8-3a5d-45cc-9815-00faed570552",
        "colab": {
          "base_uri": "https://localhost:8080/",
          "height": 226
        }
      },
      "source": [
        "autolib_copy2 = autolib.copy()\n",
        "autolib_copy2.head()"
      ],
      "execution_count": 54,
      "outputs": [
        {
          "output_type": "execute_result",
          "data": {
            "text/html": [
              "<div>\n",
              "<style scoped>\n",
              "    .dataframe tbody tr th:only-of-type {\n",
              "        vertical-align: middle;\n",
              "    }\n",
              "\n",
              "    .dataframe tbody tr th {\n",
              "        vertical-align: top;\n",
              "    }\n",
              "\n",
              "    .dataframe thead th {\n",
              "        text-align: right;\n",
              "    }\n",
              "</style>\n",
              "<table border=\"1\" class=\"dataframe\">\n",
              "  <thead>\n",
              "    <tr style=\"text-align: right;\">\n",
              "      <th></th>\n",
              "      <th>Postal_code</th>\n",
              "      <th>date</th>\n",
              "      <th>n_daily_data_points</th>\n",
              "      <th>dayOfWeek</th>\n",
              "      <th>day_type</th>\n",
              "      <th>BlueCars_taken_sum</th>\n",
              "      <th>BlueCars_returned_sum</th>\n",
              "      <th>Utilib_taken_sum</th>\n",
              "      <th>Utilib_returned_sum</th>\n",
              "      <th>Utilib_14_taken_sum</th>\n",
              "      <th>Utilib_14_returned_sum</th>\n",
              "      <th>Slots_freed_sum</th>\n",
              "      <th>Slots_taken_sum</th>\n",
              "    </tr>\n",
              "  </thead>\n",
              "  <tbody>\n",
              "    <tr>\n",
              "      <th>0</th>\n",
              "      <td>75001</td>\n",
              "      <td>1/1/2018</td>\n",
              "      <td>1440</td>\n",
              "      <td>0</td>\n",
              "      <td>weekday</td>\n",
              "      <td>110</td>\n",
              "      <td>103</td>\n",
              "      <td>3</td>\n",
              "      <td>2</td>\n",
              "      <td>10</td>\n",
              "      <td>9</td>\n",
              "      <td>22</td>\n",
              "      <td>20</td>\n",
              "    </tr>\n",
              "    <tr>\n",
              "      <th>1</th>\n",
              "      <td>75001</td>\n",
              "      <td>1/2/2018</td>\n",
              "      <td>1438</td>\n",
              "      <td>1</td>\n",
              "      <td>weekday</td>\n",
              "      <td>98</td>\n",
              "      <td>94</td>\n",
              "      <td>1</td>\n",
              "      <td>1</td>\n",
              "      <td>8</td>\n",
              "      <td>8</td>\n",
              "      <td>23</td>\n",
              "      <td>22</td>\n",
              "    </tr>\n",
              "    <tr>\n",
              "      <th>2</th>\n",
              "      <td>75001</td>\n",
              "      <td>1/3/2018</td>\n",
              "      <td>1439</td>\n",
              "      <td>2</td>\n",
              "      <td>weekday</td>\n",
              "      <td>138</td>\n",
              "      <td>139</td>\n",
              "      <td>0</td>\n",
              "      <td>0</td>\n",
              "      <td>2</td>\n",
              "      <td>2</td>\n",
              "      <td>27</td>\n",
              "      <td>27</td>\n",
              "    </tr>\n",
              "    <tr>\n",
              "      <th>3</th>\n",
              "      <td>75001</td>\n",
              "      <td>1/4/2018</td>\n",
              "      <td>1320</td>\n",
              "      <td>3</td>\n",
              "      <td>weekday</td>\n",
              "      <td>104</td>\n",
              "      <td>104</td>\n",
              "      <td>2</td>\n",
              "      <td>2</td>\n",
              "      <td>9</td>\n",
              "      <td>8</td>\n",
              "      <td>25</td>\n",
              "      <td>21</td>\n",
              "    </tr>\n",
              "    <tr>\n",
              "      <th>4</th>\n",
              "      <td>75001</td>\n",
              "      <td>1/5/2018</td>\n",
              "      <td>1440</td>\n",
              "      <td>4</td>\n",
              "      <td>weekday</td>\n",
              "      <td>114</td>\n",
              "      <td>117</td>\n",
              "      <td>3</td>\n",
              "      <td>3</td>\n",
              "      <td>6</td>\n",
              "      <td>6</td>\n",
              "      <td>18</td>\n",
              "      <td>20</td>\n",
              "    </tr>\n",
              "  </tbody>\n",
              "</table>\n",
              "</div>"
            ],
            "text/plain": [
              "   Postal_code      date  ...  Slots_freed_sum  Slots_taken_sum\n",
              "0        75001  1/1/2018  ...               22               20\n",
              "1        75001  1/2/2018  ...               23               22\n",
              "2        75001  1/3/2018  ...               27               27\n",
              "3        75001  1/4/2018  ...               25               21\n",
              "4        75001  1/5/2018  ...               18               20\n",
              "\n",
              "[5 rows x 13 columns]"
            ]
          },
          "metadata": {
            "tags": []
          },
          "execution_count": 54
        }
      ]
    },
    {
      "cell_type": "code",
      "metadata": {
        "id": "VVqYElZn1aga",
        "colab_type": "code",
        "outputId": "8ddc676c-b3ee-4878-ccb1-bc9645c25727",
        "colab": {
          "base_uri": "https://localhost:8080/",
          "height": 226
        }
      },
      "source": [
        "autolib_copy2 = autolib_copy2.drop(\"date\" , axis =1)\n",
        "autolib_copy2.head()"
      ],
      "execution_count": 55,
      "outputs": [
        {
          "output_type": "execute_result",
          "data": {
            "text/html": [
              "<div>\n",
              "<style scoped>\n",
              "    .dataframe tbody tr th:only-of-type {\n",
              "        vertical-align: middle;\n",
              "    }\n",
              "\n",
              "    .dataframe tbody tr th {\n",
              "        vertical-align: top;\n",
              "    }\n",
              "\n",
              "    .dataframe thead th {\n",
              "        text-align: right;\n",
              "    }\n",
              "</style>\n",
              "<table border=\"1\" class=\"dataframe\">\n",
              "  <thead>\n",
              "    <tr style=\"text-align: right;\">\n",
              "      <th></th>\n",
              "      <th>Postal_code</th>\n",
              "      <th>n_daily_data_points</th>\n",
              "      <th>dayOfWeek</th>\n",
              "      <th>day_type</th>\n",
              "      <th>BlueCars_taken_sum</th>\n",
              "      <th>BlueCars_returned_sum</th>\n",
              "      <th>Utilib_taken_sum</th>\n",
              "      <th>Utilib_returned_sum</th>\n",
              "      <th>Utilib_14_taken_sum</th>\n",
              "      <th>Utilib_14_returned_sum</th>\n",
              "      <th>Slots_freed_sum</th>\n",
              "      <th>Slots_taken_sum</th>\n",
              "    </tr>\n",
              "  </thead>\n",
              "  <tbody>\n",
              "    <tr>\n",
              "      <th>0</th>\n",
              "      <td>75001</td>\n",
              "      <td>1440</td>\n",
              "      <td>0</td>\n",
              "      <td>weekday</td>\n",
              "      <td>110</td>\n",
              "      <td>103</td>\n",
              "      <td>3</td>\n",
              "      <td>2</td>\n",
              "      <td>10</td>\n",
              "      <td>9</td>\n",
              "      <td>22</td>\n",
              "      <td>20</td>\n",
              "    </tr>\n",
              "    <tr>\n",
              "      <th>1</th>\n",
              "      <td>75001</td>\n",
              "      <td>1438</td>\n",
              "      <td>1</td>\n",
              "      <td>weekday</td>\n",
              "      <td>98</td>\n",
              "      <td>94</td>\n",
              "      <td>1</td>\n",
              "      <td>1</td>\n",
              "      <td>8</td>\n",
              "      <td>8</td>\n",
              "      <td>23</td>\n",
              "      <td>22</td>\n",
              "    </tr>\n",
              "    <tr>\n",
              "      <th>2</th>\n",
              "      <td>75001</td>\n",
              "      <td>1439</td>\n",
              "      <td>2</td>\n",
              "      <td>weekday</td>\n",
              "      <td>138</td>\n",
              "      <td>139</td>\n",
              "      <td>0</td>\n",
              "      <td>0</td>\n",
              "      <td>2</td>\n",
              "      <td>2</td>\n",
              "      <td>27</td>\n",
              "      <td>27</td>\n",
              "    </tr>\n",
              "    <tr>\n",
              "      <th>3</th>\n",
              "      <td>75001</td>\n",
              "      <td>1320</td>\n",
              "      <td>3</td>\n",
              "      <td>weekday</td>\n",
              "      <td>104</td>\n",
              "      <td>104</td>\n",
              "      <td>2</td>\n",
              "      <td>2</td>\n",
              "      <td>9</td>\n",
              "      <td>8</td>\n",
              "      <td>25</td>\n",
              "      <td>21</td>\n",
              "    </tr>\n",
              "    <tr>\n",
              "      <th>4</th>\n",
              "      <td>75001</td>\n",
              "      <td>1440</td>\n",
              "      <td>4</td>\n",
              "      <td>weekday</td>\n",
              "      <td>114</td>\n",
              "      <td>117</td>\n",
              "      <td>3</td>\n",
              "      <td>3</td>\n",
              "      <td>6</td>\n",
              "      <td>6</td>\n",
              "      <td>18</td>\n",
              "      <td>20</td>\n",
              "    </tr>\n",
              "  </tbody>\n",
              "</table>\n",
              "</div>"
            ],
            "text/plain": [
              "   Postal_code  n_daily_data_points  ...  Slots_freed_sum Slots_taken_sum\n",
              "0        75001                 1440  ...               22              20\n",
              "1        75001                 1438  ...               23              22\n",
              "2        75001                 1439  ...               27              27\n",
              "3        75001                 1320  ...               25              21\n",
              "4        75001                 1440  ...               18              20\n",
              "\n",
              "[5 rows x 12 columns]"
            ]
          },
          "metadata": {
            "tags": []
          },
          "execution_count": 55
        }
      ]
    },
    {
      "cell_type": "markdown",
      "metadata": {
        "id": "7RQuYt8ERzRa",
        "colab_type": "text"
      },
      "source": [
        "####Applying P.C.A"
      ]
    },
    {
      "cell_type": "code",
      "metadata": {
        "id": "C3b7Kls4yJTq",
        "colab_type": "code",
        "colab": {}
      },
      "source": [
        "# step 1\n",
        "#  Preprocessing\n",
        "# The first preprocessing step is to divide the dataset into a feature set and corresponding labels. \n",
        "# The following script performs this task. The script below stores the feature sets into the X variable \n",
        "# and the series of corresponding labels in to the y variable.\n",
        "# \n",
        "X = autolib_copy2.drop('day_type', 1)\n",
        "y = autolib_copy2['day_type']"
      ],
      "execution_count": 0,
      "outputs": []
    },
    {
      "cell_type": "code",
      "metadata": {
        "id": "bKQqX__StYiz",
        "colab_type": "code",
        "colab": {}
      },
      "source": [
        "# step 2\n",
        "#  Splitting the dataset into the Training set and Test set\n",
        "# The next preprocessing step is to divide data into training and test sets. \n",
        "# We execute the following script to do so:\n",
        "#\n",
        "from sklearn.model_selection import train_test_split\n",
        "\n",
        "X_train, X_test, y_train, y_test = train_test_split(X, y, test_size=0.2, random_state=0)"
      ],
      "execution_count": 0,
      "outputs": []
    },
    {
      "cell_type": "code",
      "metadata": {
        "id": "iw4sfT641F0c",
        "colab_type": "code",
        "colab": {}
      },
      "source": [
        "# step 3\n",
        "#  Normalization\n",
        "# As mentioned earlier, PCA performs best with a normalized feature set. \n",
        "# We will perform standard scalar normalization to normalize our feature set. \n",
        "# To do this, we execute the following code:\n",
        "# \n",
        "from sklearn.preprocessing import StandardScaler\n",
        "\n",
        "sc = StandardScaler()\n",
        "X_train = sc.fit_transform(X_train)\n",
        "X_test = sc.transform(X_test)"
      ],
      "execution_count": 0,
      "outputs": []
    },
    {
      "cell_type": "code",
      "metadata": {
        "id": "_VmJn4xU2q-Y",
        "colab_type": "code",
        "colab": {}
      },
      "source": [
        "## step 4\n",
        "#  Applying PCA\n",
        "from sklearn.decomposition import PCA\n",
        "\n",
        "pca = PCA()\n",
        "X_train = pca.fit_transform(X_train)\n",
        "X_test = pca.transform(X_test)"
      ],
      "execution_count": 0,
      "outputs": []
    },
    {
      "cell_type": "code",
      "metadata": {
        "id": "xKXy_RDG26u2",
        "colab_type": "code",
        "outputId": "e2866775-1b0f-4515-cea2-d289bd7774ef",
        "colab": {
          "base_uri": "https://localhost:8080/",
          "height": 69
        }
      },
      "source": [
        "#step 5\n",
        "#  Explained Variance Ratio\n",
        "explained_variance = pca.explained_variance_ratio_\n",
        "explained_variance\n"
      ],
      "execution_count": 116,
      "outputs": [
        {
          "output_type": "execute_result",
          "data": {
            "text/plain": [
              "array([7.20082546e-01, 9.13194268e-02, 9.06988505e-02, 4.54748586e-02,\n",
              "       2.83890579e-02, 1.52655613e-02, 6.23204413e-03, 1.62299507e-03,\n",
              "       7.30273275e-04, 1.44551275e-04, 3.98354243e-05])"
            ]
          },
          "metadata": {
            "tags": []
          },
          "execution_count": 116
        }
      ]
    },
    {
      "cell_type": "code",
      "metadata": {
        "id": "fH1cyV_63Hep",
        "colab_type": "code",
        "colab": {}
      },
      "source": [
        "# Using 1 Principal Component\n",
        "from sklearn.decomposition import PCA\n",
        "\n",
        "pca = PCA(n_components=1)\n",
        "X_train = pca.fit_transform(X_train)\n",
        "X_test = pca.transform(X_test)\n"
      ],
      "execution_count": 0,
      "outputs": []
    },
    {
      "cell_type": "code",
      "metadata": {
        "id": "aVuRLAoO3bKh",
        "colab_type": "code",
        "outputId": "935ce454-47af-4ce6-b94f-fda77a94fd51",
        "colab": {
          "base_uri": "https://localhost:8080/",
          "height": 72
        }
      },
      "source": [
        "# Training and Making Predictions\n",
        "from sklearn.ensemble import RandomForestClassifier\n",
        "\n",
        "classifier = RandomForestClassifier(max_depth=2, random_state=0)\n",
        "classifier.fit(X_train, y_train)\n",
        "\n",
        "# Predicting the Test set results\n",
        "y_pred = classifier.predict(X_test)"
      ],
      "execution_count": 102,
      "outputs": [
        {
          "output_type": "stream",
          "text": [
            "/usr/local/lib/python3.6/dist-packages/sklearn/ensemble/forest.py:245: FutureWarning: The default value of n_estimators will change from 10 in version 0.20 to 100 in 0.22.\n",
            "  \"10 in version 0.20 to 100 in 0.22.\", FutureWarning)\n"
          ],
          "name": "stderr"
        }
      ]
    },
    {
      "cell_type": "code",
      "metadata": {
        "id": "pUOstl6c3s6q",
        "colab_type": "code",
        "outputId": "c63a5ff1-9554-41a2-c59c-631f294bd587",
        "colab": {
          "base_uri": "https://localhost:8080/",
          "height": 69
        }
      },
      "source": [
        "#  Performance Evaluation\n",
        "\n",
        "##Using 1 component gives a 71.3% Accuracy\n",
        " \n",
        "from sklearn.metrics import confusion_matrix\n",
        "from sklearn.metrics import accuracy_score\n",
        "\n",
        "cm = confusion_matrix(y_test, y_pred)\n",
        "print(cm)\n",
        "print('Accuracy', accuracy_score(y_test, y_pred))\n",
        "\n",
        "#we will compare this with the Discriminant analysis value"
      ],
      "execution_count": 103,
      "outputs": [
        {
          "output_type": "stream",
          "text": [
            "[[2237   76]\n",
            " [ 847   57]]\n",
            "Accuracy 0.7130867267640659\n"
          ],
          "name": "stdout"
        }
      ]
    },
    {
      "cell_type": "code",
      "metadata": {
        "id": "P5XcB1xO4BgD",
        "colab_type": "code",
        "colab": {}
      },
      "source": [
        "# Using 2 Principal Component\n",
        "\n",
        "\n",
        "#in order to check this, run step 1 to 5 then run the succesive cells for principal component =2\n",
        "\n",
        "from sklearn.decomposition import PCA\n",
        "\n",
        "pca = PCA(n_components=2)\n",
        "X_train = pca.fit_transform(X_train)\n",
        "X_test = pca.transform(X_test)\n"
      ],
      "execution_count": 0,
      "outputs": []
    },
    {
      "cell_type": "code",
      "metadata": {
        "id": "9e4R6gEr4WNE",
        "colab_type": "code",
        "outputId": "c8a646ff-4209-4bb8-b900-8b974e17c6a2",
        "colab": {
          "base_uri": "https://localhost:8080/",
          "height": 72
        }
      },
      "source": [
        "# Training and Making Predictions\n",
        "from sklearn.ensemble import RandomForestClassifier\n",
        "\n",
        "classifier = RandomForestClassifier(max_depth=2, random_state=0)\n",
        "classifier.fit(X_train, y_train)\n",
        "\n",
        "# Predicting the Test set results\n",
        "y_pred = classifier.predict(X_test)"
      ],
      "execution_count": 110,
      "outputs": [
        {
          "output_type": "stream",
          "text": [
            "/usr/local/lib/python3.6/dist-packages/sklearn/ensemble/forest.py:245: FutureWarning: The default value of n_estimators will change from 10 in version 0.20 to 100 in 0.22.\n",
            "  \"10 in version 0.20 to 100 in 0.22.\", FutureWarning)\n"
          ],
          "name": "stderr"
        }
      ]
    },
    {
      "cell_type": "code",
      "metadata": {
        "id": "soJjSWXO4bbQ",
        "colab_type": "code",
        "outputId": "4299cdce-6f20-488a-bac5-1e150f91f78e",
        "colab": {
          "base_uri": "https://localhost:8080/",
          "height": 69
        }
      },
      "source": [
        "#Using 2 components gives a 97.73% Accuracy\n",
        "from sklearn.metrics import confusion_matrix\n",
        "from sklearn.metrics import accuracy_score\n",
        "\n",
        "cm = confusion_matrix(y_test, y_pred)\n",
        "print(cm)\n",
        "print('Accuracy', accuracy_score(y_test, y_pred))\n",
        "\n"
      ],
      "execution_count": 111,
      "outputs": [
        {
          "output_type": "stream",
          "text": [
            "[[2311    2]\n",
            " [  71  833]]\n",
            "Accuracy 0.9773080509791732\n"
          ],
          "name": "stdout"
        }
      ]
    },
    {
      "cell_type": "code",
      "metadata": {
        "id": "rMO544j95iYX",
        "colab_type": "code",
        "colab": {}
      },
      "source": [
        "# Using 3 Principal Component\n",
        "from sklearn.decomposition import PCA\n",
        "\n",
        "pca = PCA(n_components=3)\n",
        "X_train = pca.fit_transform(X_train)\n",
        "X_test = pca.transform(X_test)"
      ],
      "execution_count": 0,
      "outputs": []
    },
    {
      "cell_type": "code",
      "metadata": {
        "id": "CrhUmKkN6K_4",
        "colab_type": "code",
        "outputId": "77101f56-69a1-4847-a2ef-9797713f70af",
        "colab": {
          "base_uri": "https://localhost:8080/",
          "height": 72
        }
      },
      "source": [
        "# Training and Making Predictions\n",
        "from sklearn.ensemble import RandomForestClassifier\n",
        "\n",
        "classifier = RandomForestClassifier(max_depth=2, random_state=0)\n",
        "classifier.fit(X_train, y_train)\n",
        "\n",
        "# Predicting the Test set results\n",
        "y_pred = classifier.predict(X_test)"
      ],
      "execution_count": 118,
      "outputs": [
        {
          "output_type": "stream",
          "text": [
            "/usr/local/lib/python3.6/dist-packages/sklearn/ensemble/forest.py:245: FutureWarning: The default value of n_estimators will change from 10 in version 0.20 to 100 in 0.22.\n",
            "  \"10 in version 0.20 to 100 in 0.22.\", FutureWarning)\n"
          ],
          "name": "stderr"
        }
      ]
    },
    {
      "cell_type": "code",
      "metadata": {
        "id": "dvF-mg_e6Lap",
        "colab_type": "code",
        "outputId": "24f53d82-c71b-4098-d15d-8407b6c0bb8f",
        "colab": {
          "base_uri": "https://localhost:8080/",
          "height": 69
        }
      },
      "source": [
        "#Using 3 components gives a 97.79% Accuracy\n",
        "from sklearn.metrics import confusion_matrix\n",
        "from sklearn.metrics import accuracy_score\n",
        "\n",
        "cm = confusion_matrix(y_test, y_pred)\n",
        "print(cm)\n",
        "print('Accuracy', accuracy_score(y_test, y_pred))"
      ],
      "execution_count": 119,
      "outputs": [
        {
          "output_type": "stream",
          "text": [
            "[[2313    0]\n",
            " [  71  833]]\n",
            "Accuracy 0.9779297482126205\n"
          ],
          "name": "stdout"
        }
      ]
    },
    {
      "cell_type": "markdown",
      "metadata": {
        "id": "8jppeulaR-ml",
        "colab_type": "text"
      },
      "source": [
        "\n",
        "\n",
        "####Applying Discriminant Analysis"
      ]
    },
    {
      "cell_type": "code",
      "metadata": {
        "id": "-5ap6LuVHwEI",
        "colab_type": "code",
        "outputId": "c1e6db29-4ae6-40e6-ffeb-143f396f4e0e",
        "colab": {
          "base_uri": "https://localhost:8080/",
          "height": 226
        }
      },
      "source": [
        "new_autolib = autolib_copy2.copy()\n",
        "new_autolib.head()"
      ],
      "execution_count": 120,
      "outputs": [
        {
          "output_type": "execute_result",
          "data": {
            "text/html": [
              "<div>\n",
              "<style scoped>\n",
              "    .dataframe tbody tr th:only-of-type {\n",
              "        vertical-align: middle;\n",
              "    }\n",
              "\n",
              "    .dataframe tbody tr th {\n",
              "        vertical-align: top;\n",
              "    }\n",
              "\n",
              "    .dataframe thead th {\n",
              "        text-align: right;\n",
              "    }\n",
              "</style>\n",
              "<table border=\"1\" class=\"dataframe\">\n",
              "  <thead>\n",
              "    <tr style=\"text-align: right;\">\n",
              "      <th></th>\n",
              "      <th>Postal_code</th>\n",
              "      <th>n_daily_data_points</th>\n",
              "      <th>dayOfWeek</th>\n",
              "      <th>day_type</th>\n",
              "      <th>BlueCars_taken_sum</th>\n",
              "      <th>BlueCars_returned_sum</th>\n",
              "      <th>Utilib_taken_sum</th>\n",
              "      <th>Utilib_returned_sum</th>\n",
              "      <th>Utilib_14_taken_sum</th>\n",
              "      <th>Utilib_14_returned_sum</th>\n",
              "      <th>Slots_freed_sum</th>\n",
              "      <th>Slots_taken_sum</th>\n",
              "    </tr>\n",
              "  </thead>\n",
              "  <tbody>\n",
              "    <tr>\n",
              "      <th>0</th>\n",
              "      <td>75001</td>\n",
              "      <td>1440</td>\n",
              "      <td>0</td>\n",
              "      <td>weekday</td>\n",
              "      <td>110</td>\n",
              "      <td>103</td>\n",
              "      <td>3</td>\n",
              "      <td>2</td>\n",
              "      <td>10</td>\n",
              "      <td>9</td>\n",
              "      <td>22</td>\n",
              "      <td>20</td>\n",
              "    </tr>\n",
              "    <tr>\n",
              "      <th>1</th>\n",
              "      <td>75001</td>\n",
              "      <td>1438</td>\n",
              "      <td>1</td>\n",
              "      <td>weekday</td>\n",
              "      <td>98</td>\n",
              "      <td>94</td>\n",
              "      <td>1</td>\n",
              "      <td>1</td>\n",
              "      <td>8</td>\n",
              "      <td>8</td>\n",
              "      <td>23</td>\n",
              "      <td>22</td>\n",
              "    </tr>\n",
              "    <tr>\n",
              "      <th>2</th>\n",
              "      <td>75001</td>\n",
              "      <td>1439</td>\n",
              "      <td>2</td>\n",
              "      <td>weekday</td>\n",
              "      <td>138</td>\n",
              "      <td>139</td>\n",
              "      <td>0</td>\n",
              "      <td>0</td>\n",
              "      <td>2</td>\n",
              "      <td>2</td>\n",
              "      <td>27</td>\n",
              "      <td>27</td>\n",
              "    </tr>\n",
              "    <tr>\n",
              "      <th>3</th>\n",
              "      <td>75001</td>\n",
              "      <td>1320</td>\n",
              "      <td>3</td>\n",
              "      <td>weekday</td>\n",
              "      <td>104</td>\n",
              "      <td>104</td>\n",
              "      <td>2</td>\n",
              "      <td>2</td>\n",
              "      <td>9</td>\n",
              "      <td>8</td>\n",
              "      <td>25</td>\n",
              "      <td>21</td>\n",
              "    </tr>\n",
              "    <tr>\n",
              "      <th>4</th>\n",
              "      <td>75001</td>\n",
              "      <td>1440</td>\n",
              "      <td>4</td>\n",
              "      <td>weekday</td>\n",
              "      <td>114</td>\n",
              "      <td>117</td>\n",
              "      <td>3</td>\n",
              "      <td>3</td>\n",
              "      <td>6</td>\n",
              "      <td>6</td>\n",
              "      <td>18</td>\n",
              "      <td>20</td>\n",
              "    </tr>\n",
              "  </tbody>\n",
              "</table>\n",
              "</div>"
            ],
            "text/plain": [
              "   Postal_code  n_daily_data_points  ...  Slots_freed_sum Slots_taken_sum\n",
              "0        75001                 1440  ...               22              20\n",
              "1        75001                 1438  ...               23              22\n",
              "2        75001                 1439  ...               27              27\n",
              "3        75001                 1320  ...               25              21\n",
              "4        75001                 1440  ...               18              20\n",
              "\n",
              "[5 rows x 12 columns]"
            ]
          },
          "metadata": {
            "tags": []
          },
          "execution_count": 120
        }
      ]
    },
    {
      "cell_type": "code",
      "metadata": {
        "id": "-y4-6JQTHtVX",
        "colab_type": "code",
        "colab": {}
      },
      "source": [
        "#\n",
        "X = new_autolib.loc[:, new_autolib.columns != 'day_type'].values\n",
        "y = new_autolib.iloc[:, 3].values\n"
      ],
      "execution_count": 0,
      "outputs": []
    },
    {
      "cell_type": "code",
      "metadata": {
        "id": "dXk_vylrIccb",
        "colab_type": "code",
        "colab": {}
      },
      "source": [
        "# The following code divides data into training and test sets\n",
        "\n",
        "from sklearn.model_selection import train_test_split\n",
        "X_train, X_test, y_train, y_test = train_test_split(X, y, test_size=0.2, random_state=0)"
      ],
      "execution_count": 0,
      "outputs": []
    },
    {
      "cell_type": "code",
      "metadata": {
        "id": "QzGKF7gXJxmr",
        "colab_type": "code",
        "colab": {}
      },
      "source": [
        "# We now need to perform feature scaling. We execute the following code to do so:\n",
        "# \n",
        "from sklearn.preprocessing import StandardScaler\n",
        "sc = StandardScaler()\n",
        "X_train = sc.fit_transform(X_train)\n",
        "X_test = sc.transform(X_test)"
      ],
      "execution_count": 0,
      "outputs": []
    },
    {
      "cell_type": "code",
      "metadata": {
        "id": "p-RrnJclJ5sx",
        "colab_type": "code",
        "colab": {}
      },
      "source": [
        "# The LinearDiscriminantAnalysis class of the sklearn.discriminant_analysis \n",
        "# library can be used to Perform LDA in Python. \n",
        "# Let's take a look at the following code\n",
        "#\n",
        "\n",
        "from sklearn.discriminant_analysis import LinearDiscriminantAnalysis as LDA\n",
        "lda = LDA(n_components=1)\n",
        "X_train = lda.fit_transform(X_train, y_train)\n",
        "X_test = lda.transform(X_test)"
      ],
      "execution_count": 0,
      "outputs": []
    },
    {
      "cell_type": "code",
      "metadata": {
        "id": "aFgjndnXKQho",
        "colab_type": "code",
        "outputId": "32101ea2-8192-4eed-fdf3-add89ae160c1",
        "colab": {
          "base_uri": "https://localhost:8080/",
          "height": 72
        }
      },
      "source": [
        "# Training and Making Predictions\n",
        "# We will use the random forest classifier to evaluate the performance of a PCA-reduced algorithms as shown\n",
        "# \n",
        "\n",
        "from sklearn.ensemble import RandomForestClassifier\n",
        "\n",
        "classifier = RandomForestClassifier(max_depth=2, random_state=0)\n",
        "classifier.fit(X_train, y_train)\n",
        "y_pred = classifier.predict(X_test)"
      ],
      "execution_count": 125,
      "outputs": [
        {
          "output_type": "stream",
          "text": [
            "/usr/local/lib/python3.6/dist-packages/sklearn/ensemble/forest.py:245: FutureWarning: The default value of n_estimators will change from 10 in version 0.20 to 100 in 0.22.\n",
            "  \"10 in version 0.20 to 100 in 0.22.\", FutureWarning)\n"
          ],
          "name": "stderr"
        }
      ]
    },
    {
      "cell_type": "code",
      "metadata": {
        "id": "vBcuiG03KQwR",
        "colab_type": "code",
        "outputId": "9a2186df-9acb-4b2b-b008-2c89231a2d63",
        "colab": {
          "base_uri": "https://localhost:8080/",
          "height": 69
        }
      },
      "source": [
        "# Evaluating the Performance\n",
        "# As always, the last step is to evaluate performance of the algorithm \n",
        "# with the help of a confusion matrix and find the accuracy of the prediction.\n",
        "# \n",
        "\n",
        "from sklearn.metrics import confusion_matrix\n",
        "from sklearn.metrics import accuracy_score\n",
        "\n",
        "cm = confusion_matrix(y_test, y_pred)\n",
        "print(cm)\n",
        "print('Accuracy' + str(accuracy_score(y_test, y_pred)))\n",
        "\n",
        "# We can see that with one linear discriminant, the algorithm achieved an accuracy of 99.69%, \n",
        "#This is higher than the 71.3% achieved by 1 PCA component"
      ],
      "execution_count": 126,
      "outputs": [
        {
          "output_type": "stream",
          "text": [
            "[[2307    6]\n",
            " [   4  900]]\n",
            "Accuracy0.9968915138327634\n"
          ],
          "name": "stdout"
        }
      ]
    },
    {
      "cell_type": "markdown",
      "metadata": {
        "id": "retkftLZSRhy",
        "colab_type": "text"
      },
      "source": [
        "####Applying  Linear Regression\n"
      ]
    },
    {
      "cell_type": "code",
      "metadata": {
        "id": "y4jj5ETEKQqR",
        "colab_type": "code",
        "outputId": "995e429e-8b8a-43ef-ffb4-96e8b93cb69f",
        "colab": {
          "base_uri": "https://localhost:8080/",
          "height": 226
        }
      },
      "source": [
        "new_autolib2 = autolib_copy2.copy()\n",
        "new_autolib2.head()"
      ],
      "execution_count": 127,
      "outputs": [
        {
          "output_type": "execute_result",
          "data": {
            "text/html": [
              "<div>\n",
              "<style scoped>\n",
              "    .dataframe tbody tr th:only-of-type {\n",
              "        vertical-align: middle;\n",
              "    }\n",
              "\n",
              "    .dataframe tbody tr th {\n",
              "        vertical-align: top;\n",
              "    }\n",
              "\n",
              "    .dataframe thead th {\n",
              "        text-align: right;\n",
              "    }\n",
              "</style>\n",
              "<table border=\"1\" class=\"dataframe\">\n",
              "  <thead>\n",
              "    <tr style=\"text-align: right;\">\n",
              "      <th></th>\n",
              "      <th>Postal_code</th>\n",
              "      <th>n_daily_data_points</th>\n",
              "      <th>dayOfWeek</th>\n",
              "      <th>day_type</th>\n",
              "      <th>BlueCars_taken_sum</th>\n",
              "      <th>BlueCars_returned_sum</th>\n",
              "      <th>Utilib_taken_sum</th>\n",
              "      <th>Utilib_returned_sum</th>\n",
              "      <th>Utilib_14_taken_sum</th>\n",
              "      <th>Utilib_14_returned_sum</th>\n",
              "      <th>Slots_freed_sum</th>\n",
              "      <th>Slots_taken_sum</th>\n",
              "    </tr>\n",
              "  </thead>\n",
              "  <tbody>\n",
              "    <tr>\n",
              "      <th>0</th>\n",
              "      <td>75001</td>\n",
              "      <td>1440</td>\n",
              "      <td>0</td>\n",
              "      <td>weekday</td>\n",
              "      <td>110</td>\n",
              "      <td>103</td>\n",
              "      <td>3</td>\n",
              "      <td>2</td>\n",
              "      <td>10</td>\n",
              "      <td>9</td>\n",
              "      <td>22</td>\n",
              "      <td>20</td>\n",
              "    </tr>\n",
              "    <tr>\n",
              "      <th>1</th>\n",
              "      <td>75001</td>\n",
              "      <td>1438</td>\n",
              "      <td>1</td>\n",
              "      <td>weekday</td>\n",
              "      <td>98</td>\n",
              "      <td>94</td>\n",
              "      <td>1</td>\n",
              "      <td>1</td>\n",
              "      <td>8</td>\n",
              "      <td>8</td>\n",
              "      <td>23</td>\n",
              "      <td>22</td>\n",
              "    </tr>\n",
              "    <tr>\n",
              "      <th>2</th>\n",
              "      <td>75001</td>\n",
              "      <td>1439</td>\n",
              "      <td>2</td>\n",
              "      <td>weekday</td>\n",
              "      <td>138</td>\n",
              "      <td>139</td>\n",
              "      <td>0</td>\n",
              "      <td>0</td>\n",
              "      <td>2</td>\n",
              "      <td>2</td>\n",
              "      <td>27</td>\n",
              "      <td>27</td>\n",
              "    </tr>\n",
              "    <tr>\n",
              "      <th>3</th>\n",
              "      <td>75001</td>\n",
              "      <td>1320</td>\n",
              "      <td>3</td>\n",
              "      <td>weekday</td>\n",
              "      <td>104</td>\n",
              "      <td>104</td>\n",
              "      <td>2</td>\n",
              "      <td>2</td>\n",
              "      <td>9</td>\n",
              "      <td>8</td>\n",
              "      <td>25</td>\n",
              "      <td>21</td>\n",
              "    </tr>\n",
              "    <tr>\n",
              "      <th>4</th>\n",
              "      <td>75001</td>\n",
              "      <td>1440</td>\n",
              "      <td>4</td>\n",
              "      <td>weekday</td>\n",
              "      <td>114</td>\n",
              "      <td>117</td>\n",
              "      <td>3</td>\n",
              "      <td>3</td>\n",
              "      <td>6</td>\n",
              "      <td>6</td>\n",
              "      <td>18</td>\n",
              "      <td>20</td>\n",
              "    </tr>\n",
              "  </tbody>\n",
              "</table>\n",
              "</div>"
            ],
            "text/plain": [
              "   Postal_code  n_daily_data_points  ...  Slots_freed_sum Slots_taken_sum\n",
              "0        75001                 1440  ...               22              20\n",
              "1        75001                 1438  ...               23              22\n",
              "2        75001                 1439  ...               27              27\n",
              "3        75001                 1320  ...               25              21\n",
              "4        75001                 1440  ...               18              20\n",
              "\n",
              "[5 rows x 12 columns]"
            ]
          },
          "metadata": {
            "tags": []
          },
          "execution_count": 127
        }
      ]
    },
    {
      "cell_type": "code",
      "metadata": {
        "id": "ZlgjSQB1PP-F",
        "colab_type": "code",
        "outputId": "a8d07e67-8387-4e9a-e8fb-8e571b142eb6",
        "colab": {
          "base_uri": "https://localhost:8080/",
          "height": 558
        }
      },
      "source": [
        "plt.figure(figsize=(7, 7))\n",
        "sns.heatmap(new_autolib2.corr())"
      ],
      "execution_count": 128,
      "outputs": [
        {
          "output_type": "execute_result",
          "data": {
            "text/plain": [
              "<matplotlib.axes._subplots.AxesSubplot at 0x7f7ccdeeca20>"
            ]
          },
          "metadata": {
            "tags": []
          },
          "execution_count": 128
        },
        {
          "output_type": "display_data",
          "data": {
            "image/png": "[encoded data removed]",
            "text/plain": [
              "<Figure size 504x504 with 2 Axes>"
            ]
          },
          "metadata": {
            "tags": []
          }
        }
      ]
    },
    {
      "cell_type": "code",
      "metadata": {
        "id": "6Tq12tc_Pm5k",
        "colab_type": "code",
        "colab": {}
      },
      "source": [
        "X = new_autolib2[[\"BlueCars_returned_sum\" ,\"Utilib_taken_sum\" ,\"Utilib_returned_sum\" ,\"Utilib_14_taken_sum\" ,\"Utilib_14_returned_sum\", \"Slots_freed_sum\" ,\"Slots_taken_sum\"]]\n",
        "\n",
        "y =new_autolib2[[\"BlueCars_taken_sum\"]]"
      ],
      "execution_count": 0,
      "outputs": []
    },
    {
      "cell_type": "code",
      "metadata": {
        "id": "wquf7j3QQzMX",
        "colab_type": "code",
        "colab": {}
      },
      "source": [
        "## Trained data is the data on which we apply the linear regression algorithm. \n",
        "# 40% of the data will go to the test data and the rest remains in the training set.\n",
        "# And finally we test that algorithm on the test data. The code for splitting is as follows\n",
        "# ---\n",
        "\n",
        "X_train, X_test, y_train, y_test = train_test_split(X, y, test_size = 0.4, random_state = 101)"
      ],
      "execution_count": 0,
      "outputs": []
    },
    {
      "cell_type": "code",
      "metadata": {
        "id": "SwnjztClQ605",
        "colab_type": "code",
        "colab": {}
      },
      "source": [
        "# We then create and train the model by fitting the linear regression model on the training data.\n",
        "# ---\n",
        "lm = LinearRegression()\n",
        "results = lm.fit(X_train,y_train)"
      ],
      "execution_count": 0,
      "outputs": []
    },
    {
      "cell_type": "code",
      "metadata": {
        "id": "TrADRR3SRLRU",
        "colab_type": "code",
        "colab": {}
      },
      "source": [
        "# Grabbing predictions off the test set and see how well it did\n",
        "# ---\n",
        "predictions = lm.predict(X_test)"
      ],
      "execution_count": 0,
      "outputs": []
    },
    {
      "cell_type": "code",
      "metadata": {
        "id": "39nMak-eRPz7",
        "colab_type": "code",
        "outputId": "38688516-9b54-440f-d64b-6087bb549157",
        "colab": {
          "base_uri": "https://localhost:8080/",
          "height": 286
        }
      },
      "source": [
        "# Then visualising the prediction\n",
        "# ---\n",
        "plt.scatter(y_test,predictions)"
      ],
      "execution_count": 133,
      "outputs": [
        {
          "output_type": "execute_result",
          "data": {
            "text/plain": [
              "<matplotlib.collections.PathCollection at 0x7f7cccba7198>"
            ]
          },
          "metadata": {
            "tags": []
          },
          "execution_count": 133
        },
        {
          "output_type": "display_data",
          "data": {
            "image/png": "[encoded data removed]",
            "text/plain": [
              "<Figure size 432x288 with 1 Axes>"
            ]
          },
          "metadata": {
            "tags": []
          }
        }
      ]
    },
    {
      "cell_type": "markdown",
      "metadata": {
        "id": "n9vziZAmpBnf",
        "colab_type": "text"
      },
      "source": [
        "### Normality Test"
      ]
    },
    {
      "cell_type": "code",
      "metadata": {
        "id": "tJNKzgy7pGW5",
        "colab_type": "code",
        "colab": {
          "base_uri": "https://localhost:8080/",
          "height": 269
        },
        "outputId": "731afc02-db1e-4e66-a82a-f059963b0f8a"
      },
      "source": [
        "#Blue cars is not normally distributed\n",
        "\n",
        "plt.hist(autolib[\"BlueCars_taken_sum\"])\n",
        "plt.show()"
      ],
      "execution_count": 134,
      "outputs": [
        {
          "output_type": "display_data",
          "data": {
            "image/png": "[encoded data removed]",
            "text/plain": [
              "<Figure size 432x288 with 1 Axes>"
            ]
          },
          "metadata": {
            "tags": []
          }
        }
      ]
    },
    {
      "cell_type": "code",
      "metadata": {
        "id": "Tc6s01eZpjH4",
        "colab_type": "code",
        "colab": {
          "base_uri": "https://localhost:8080/",
          "height": 283
        },
        "outputId": "f99a7ff7-0d20-4997-e03d-5c78c21de7ff"
      },
      "source": [
        "# data doesnot follow a normal distribution\n",
        "qqplot(autolib[\"BlueCars_taken_sum\"], line='s')\n",
        "plt.show()"
      ],
      "execution_count": 135,
      "outputs": [
        {
          "output_type": "display_data",
          "data": {
            "image/png": "[encoded data removed]",
            "text/plain": [
              "<Figure size 432x288 with 1 Axes>"
            ]
          },
          "metadata": {
            "tags": []
          }
        }
      ]
    },
    {
      "cell_type": "code",
      "metadata": {
        "id": "QENGE5txqKMX",
        "colab_type": "code",
        "colab": {}
      },
      "source": [
        "# testing for normality\n",
        "stat, p = shapiro(autolib[\"BlueCars_taken_sum\"])\n",
        "print('Statistics=%.3f, p=%.3f' % (stat, p))\n",
        "\n",
        "# interpreting\n",
        "alpha = 0.05\n",
        "if p > alpha:\n",
        "\tprint('Sample looks Gaussian')\n",
        "else:\n",
        "\tprint('Sample does not look Gaussian')"
      ],
      "execution_count": 0,
      "outputs": []
    },
    {
      "cell_type": "markdown",
      "metadata": {
        "id": "X2zZPrlXmnhi",
        "colab_type": "text"
      },
      "source": [
        "###Sampling"
      ]
    },
    {
      "cell_type": "code",
      "metadata": {
        "id": "c2fTjogioUor",
        "colab_type": "code",
        "colab": {
          "base_uri": "https://localhost:8080/",
          "height": 278
        },
        "outputId": "b6b26061-01fa-43fb-c822-8514d34d99c7"
      },
      "source": [
        "# Stratified sample\n",
        "sample1 = autolib.groupby('day_type', group_keys=False).apply(lambda grouped_subset : grouped_subset.sample(frac=0.1))\n",
        "\n",
        "# proportion of the non_stratified sample\n",
        "print(sample1['day_type'].value_counts())\n",
        "\n",
        "# Check the stratified output\n",
        "sample1.head()\n"
      ],
      "execution_count": 83,
      "outputs": [
        {
          "output_type": "stream",
          "text": [
            "weekday    1154\n",
            "weekend     454\n",
            "Name: day_type, dtype: int64\n"
          ],
          "name": "stdout"
        },
        {
          "output_type": "execute_result",
          "data": {
            "text/html": [
              "<div>\n",
              "<style scoped>\n",
              "    .dataframe tbody tr th:only-of-type {\n",
              "        vertical-align: middle;\n",
              "    }\n",
              "\n",
              "    .dataframe tbody tr th {\n",
              "        vertical-align: top;\n",
              "    }\n",
              "\n",
              "    .dataframe thead th {\n",
              "        text-align: right;\n",
              "    }\n",
              "</style>\n",
              "<table border=\"1\" class=\"dataframe\">\n",
              "  <thead>\n",
              "    <tr style=\"text-align: right;\">\n",
              "      <th></th>\n",
              "      <th>Postal_code</th>\n",
              "      <th>date</th>\n",
              "      <th>n_daily_data_points</th>\n",
              "      <th>dayOfWeek</th>\n",
              "      <th>day_type</th>\n",
              "      <th>BlueCars_taken_sum</th>\n",
              "      <th>BlueCars_returned_sum</th>\n",
              "      <th>Utilib_taken_sum</th>\n",
              "      <th>Utilib_returned_sum</th>\n",
              "      <th>Utilib_14_taken_sum</th>\n",
              "      <th>Utilib_14_returned_sum</th>\n",
              "      <th>Slots_freed_sum</th>\n",
              "      <th>Slots_taken_sum</th>\n",
              "    </tr>\n",
              "  </thead>\n",
              "  <tbody>\n",
              "    <tr>\n",
              "      <th>9374</th>\n",
              "      <td>92500</td>\n",
              "      <td>2/1/2018</td>\n",
              "      <td>1440</td>\n",
              "      <td>3</td>\n",
              "      <td>weekday</td>\n",
              "      <td>141</td>\n",
              "      <td>160</td>\n",
              "      <td>2</td>\n",
              "      <td>1</td>\n",
              "      <td>7</td>\n",
              "      <td>10</td>\n",
              "      <td>0</td>\n",
              "      <td>0</td>\n",
              "    </tr>\n",
              "    <tr>\n",
              "      <th>5419</th>\n",
              "      <td>92150</td>\n",
              "      <td>5/2/2018</td>\n",
              "      <td>1440</td>\n",
              "      <td>2</td>\n",
              "      <td>weekday</td>\n",
              "      <td>146</td>\n",
              "      <td>163</td>\n",
              "      <td>7</td>\n",
              "      <td>8</td>\n",
              "      <td>11</td>\n",
              "      <td>10</td>\n",
              "      <td>7</td>\n",
              "      <td>7</td>\n",
              "    </tr>\n",
              "    <tr>\n",
              "      <th>7008</th>\n",
              "      <td>92260</td>\n",
              "      <td>6/11/2018</td>\n",
              "      <td>1440</td>\n",
              "      <td>0</td>\n",
              "      <td>weekday</td>\n",
              "      <td>14</td>\n",
              "      <td>26</td>\n",
              "      <td>2</td>\n",
              "      <td>1</td>\n",
              "      <td>0</td>\n",
              "      <td>0</td>\n",
              "      <td>0</td>\n",
              "      <td>0</td>\n",
              "    </tr>\n",
              "    <tr>\n",
              "      <th>2070</th>\n",
              "      <td>75014</td>\n",
              "      <td>2/12/2018</td>\n",
              "      <td>1440</td>\n",
              "      <td>0</td>\n",
              "      <td>weekday</td>\n",
              "      <td>385</td>\n",
              "      <td>385</td>\n",
              "      <td>11</td>\n",
              "      <td>11</td>\n",
              "      <td>26</td>\n",
              "      <td>28</td>\n",
              "      <td>139</td>\n",
              "      <td>136</td>\n",
              "    </tr>\n",
              "    <tr>\n",
              "      <th>10847</th>\n",
              "      <td>93200</td>\n",
              "      <td>5/30/2018</td>\n",
              "      <td>1440</td>\n",
              "      <td>2</td>\n",
              "      <td>weekday</td>\n",
              "      <td>21</td>\n",
              "      <td>18</td>\n",
              "      <td>0</td>\n",
              "      <td>0</td>\n",
              "      <td>6</td>\n",
              "      <td>5</td>\n",
              "      <td>0</td>\n",
              "      <td>0</td>\n",
              "    </tr>\n",
              "  </tbody>\n",
              "</table>\n",
              "</div>"
            ],
            "text/plain": [
              "       Postal_code       date  ...  Slots_freed_sum  Slots_taken_sum\n",
              "9374         92500   2/1/2018  ...                0                0\n",
              "5419         92150   5/2/2018  ...                7                7\n",
              "7008         92260  6/11/2018  ...                0                0\n",
              "2070         75014  2/12/2018  ...              139              136\n",
              "10847        93200  5/30/2018  ...                0                0\n",
              "\n",
              "[5 rows x 13 columns]"
            ]
          },
          "metadata": {
            "tags": []
          },
          "execution_count": 83
        }
      ]
    },
    {
      "cell_type": "code",
      "metadata": {
        "id": "k4sDZrkqzo1i",
        "colab_type": "code",
        "colab": {
          "base_uri": "https://localhost:8080/",
          "height": 69
        },
        "outputId": "b4de8158-b7d3-472a-eb4e-2c6f730ac9a2"
      },
      "source": [
        "#created a second sample\n",
        "sample2 = autolib.sample(n = 1608, replace=\"False\")\n",
        "print(sample2['day_type'].value_counts())\n"
      ],
      "execution_count": 86,
      "outputs": [
        {
          "output_type": "stream",
          "text": [
            "weekday    1174\n",
            "weekend     434\n",
            "Name: day_type, dtype: int64\n"
          ],
          "name": "stdout"
        }
      ]
    },
    {
      "cell_type": "markdown",
      "metadata": {
        "id": "GopKnUauqpuJ",
        "colab_type": "text"
      },
      "source": [
        "### Hypothesis testing"
      ]
    },
    {
      "cell_type": "code",
      "metadata": {
        "id": "D_ji8MWZzth3",
        "colab_type": "code",
        "colab": {}
      },
      "source": [
        "# we would like to compare the means of our two samples and deduce whether \n",
        "#they are from the same population\n",
        "#we will work with the blue cars taken sum\n",
        "\n",
        "#null hypothesis is that there is no difference between the distributions of the data samples"
      ],
      "execution_count": 0,
      "outputs": []
    },
    {
      "cell_type": "code",
      "metadata": {
        "id": "jpWHtypd2c5i",
        "colab_type": "code",
        "colab": {}
      },
      "source": [
        "sample1_blue = sample1[\"BlueCars_taken_sum\"]\n",
        "sample2_blue =sample2[\"BlueCars_taken_sum\"]"
      ],
      "execution_count": 0,
      "outputs": []
    },
    {
      "cell_type": "code",
      "metadata": {
        "id": "CDh_wXB1quxT",
        "colab_type": "code",
        "colab": {
          "base_uri": "https://localhost:8080/",
          "height": 52
        },
        "outputId": "bcf9152c-df7c-4fe9-cd68-f8bc05578740"
      },
      "source": [
        "#sample two has a mean of 12.47 and a median of 43\n",
        "print(sample2[\"BlueCars_taken_sum\"].median())\n",
        "print(sample2[\"BlueCars_taken_sum\"].mean())"
      ],
      "execution_count": 92,
      "outputs": [
        {
          "output_type": "stream",
          "text": [
            "43.0\n",
            "126.4726368159204\n"
          ],
          "name": "stdout"
        }
      ]
    },
    {
      "cell_type": "code",
      "metadata": {
        "id": "rPs1wI8Ar774",
        "colab_type": "code",
        "colab": {
          "base_uri": "https://localhost:8080/",
          "height": 52
        },
        "outputId": "3e6a98f3-7777-4ef2-8878-9fa0f6382c3c"
      },
      "source": [
        "#sample one has a mean of 131.87 and a median of 50\n",
        "print(sample1[\"BlueCars_taken_sum\"].mean())\n",
        "print(sample1[\"BlueCars_taken_sum\"].median())"
      ],
      "execution_count": 93,
      "outputs": [
        {
          "output_type": "stream",
          "text": [
            "131.87064676616916\n",
            "50.0\n"
          ],
          "name": "stdout"
        }
      ]
    },
    {
      "cell_type": "code",
      "metadata": {
        "id": "SK1JUaiesI5u",
        "colab_type": "code",
        "colab": {
          "base_uri": "https://localhost:8080/",
          "height": 52
        },
        "outputId": "5a7c6d7f-eb78-4688-8180-f709853fe7b6"
      },
      "source": [
        "#since the distribution is not normal we use mannwhitneyu test\n",
        "#result suggests we reject the null hypothesis\n",
        "stat, p = mannwhitneyu(sample1_blue, sample2_blue)\n",
        "print('Statistics=%.3f, p=%.3f' % (stat, p))\n",
        "# interpret\n",
        "alpha = 0.05\n",
        "if p > alpha:\n",
        "\tprint('Same distribution (fail to reject H0)')\n",
        "else:\n",
        "\tprint('Different distribution (reject H0)')"
      ],
      "execution_count": 138,
      "outputs": [
        {
          "output_type": "stream",
          "text": [
            "Statistics=1231459.500, p=0.010\n",
            "Different distribution (reject H0)\n"
          ],
          "name": "stdout"
        }
      ]
    }
  ]
}